{
 "cells": [
  {
   "cell_type": "code",
   "execution_count": 3,
   "id": "de08f7e6",
   "metadata": {},
   "outputs": [],
   "source": [
    "import numpy as np\n",
    "import pandas as pd\n",
    "import sklearn as sk\n",
    "import matplotlib.pyplot as plt\n",
    "\n",
    "from sklearn.model_selection import train_test_split\n",
    "from sklearn.ensemble import (RandomForestRegressor, ExtraTreesRegressor, GradientBoostingRegressor,\n",
    "RandomForestClassifier, ExtraTreesClassifier, GradientBoostingClassifier, AdaBoostClassifier)\n",
    "from sklearn import linear_model\n",
    "from sklearn.metrics import mean_squared_error\n",
    "from sklearn import metrics\n",
    "from statsmodels.stats.outliers_influence import variance_inflation_factor  \n",
    "from sklearn.model_selection import train_test_split, KFold, RandomizedSearchCV\n",
    "from sklearn.ensemble import RandomForestRegressor\n",
    "from sklearn.metrics import mean_squared_error, r2_score\n",
    "from scipy.stats import randint\n",
    "import numpy as np\n",
    "from sklearn.feature_selection import SelectFromModel\n",
    "import statsmodels.api as sm\n",
    "from sklearn.feature_selection import SelectKBest, f_regression\n",
    "from lightgbm import LGBMRegressor\n",
    "from sklearn.preprocessing import StandardScaler"
   ]
  },
  {
   "cell_type": "markdown",
   "id": "27ca15f7",
   "metadata": {},
   "source": [
    "## Basic Data Cleaning and Combining"
   ]
  },
  {
   "cell_type": "code",
   "execution_count": 4,
   "id": "db2b4ad9",
   "metadata": {},
   "outputs": [],
   "source": [
    "# Reading Data\n",
    "margin_df = pd.read_csv(\"TP_margin_data.csv\")\n",
    "demo_df = pd.read_csv(\"demog_pmm_data.csv\") \n",
    "churn_df = pd.read_csv('TP_churn_data.csv')"
   ]
  },
  {
   "cell_type": "code",
   "execution_count": 5,
   "id": "309540cd",
   "metadata": {
    "scrolled": true
   },
   "outputs": [
    {
     "data": {
      "text/html": [
       "<div>\n",
       "<style scoped>\n",
       "    .dataframe tbody tr th:only-of-type {\n",
       "        vertical-align: middle;\n",
       "    }\n",
       "\n",
       "    .dataframe tbody tr th {\n",
       "        vertical-align: top;\n",
       "    }\n",
       "\n",
       "    .dataframe thead th {\n",
       "        text-align: right;\n",
       "    }\n",
       "</style>\n",
       "<table border=\"1\" class=\"dataframe\">\n",
       "  <thead>\n",
       "    <tr style=\"text-align: right;\">\n",
       "      <th></th>\n",
       "      <th>trans_amt_t_minus_00</th>\n",
       "      <th>trans_amt_t_minus_01</th>\n",
       "      <th>trans_amt_t_minus_02</th>\n",
       "      <th>trans_amt_t_minus_03</th>\n",
       "      <th>trans_amt_t_minus_04</th>\n",
       "      <th>trans_amt_t_minus_05</th>\n",
       "      <th>trans_amt_t_minus_06</th>\n",
       "      <th>trans_amt_t_minus_07</th>\n",
       "      <th>trans_amt_t_minus_08</th>\n",
       "      <th>trans_amt_t_minus_09</th>\n",
       "      <th>...</th>\n",
       "      <th>cost_amt_t_plus_04</th>\n",
       "      <th>cost_amt_t_plus_05</th>\n",
       "      <th>cost_amt_t_plus_06</th>\n",
       "      <th>cost_amt_t_plus_07</th>\n",
       "      <th>cost_amt_t_plus_08</th>\n",
       "      <th>cost_amt_t_plus_09</th>\n",
       "      <th>cost_amt_t_plus_10</th>\n",
       "      <th>cost_amt_t_plus_11</th>\n",
       "      <th>cost_amt_t_plus_12</th>\n",
       "      <th>acct_ID</th>\n",
       "    </tr>\n",
       "  </thead>\n",
       "  <tbody>\n",
       "    <tr>\n",
       "      <th>0</th>\n",
       "      <td>0.0</td>\n",
       "      <td>0.0</td>\n",
       "      <td>15.0</td>\n",
       "      <td>0.0</td>\n",
       "      <td>0.0</td>\n",
       "      <td>0.0</td>\n",
       "      <td>0.0</td>\n",
       "      <td>0.0</td>\n",
       "      <td>0.0</td>\n",
       "      <td>0.0</td>\n",
       "      <td>...</td>\n",
       "      <td>0.30</td>\n",
       "      <td>0.82</td>\n",
       "      <td>0.30</td>\n",
       "      <td>0.82</td>\n",
       "      <td>0.00</td>\n",
       "      <td>0.56</td>\n",
       "      <td>0.00</td>\n",
       "      <td>1.09</td>\n",
       "      <td>0.56</td>\n",
       "      <td>I148760611</td>\n",
       "    </tr>\n",
       "    <tr>\n",
       "      <th>1</th>\n",
       "      <td>0.0</td>\n",
       "      <td>0.0</td>\n",
       "      <td>0.0</td>\n",
       "      <td>0.0</td>\n",
       "      <td>0.0</td>\n",
       "      <td>0.0</td>\n",
       "      <td>0.0</td>\n",
       "      <td>0.0</td>\n",
       "      <td>20.0</td>\n",
       "      <td>0.0</td>\n",
       "      <td>...</td>\n",
       "      <td>0.26</td>\n",
       "      <td>0.00</td>\n",
       "      <td>0.00</td>\n",
       "      <td>0.00</td>\n",
       "      <td>0.00</td>\n",
       "      <td>0.00</td>\n",
       "      <td>0.00</td>\n",
       "      <td>0.00</td>\n",
       "      <td>0.00</td>\n",
       "      <td>I151076142</td>\n",
       "    </tr>\n",
       "    <tr>\n",
       "      <th>2</th>\n",
       "      <td>25.0</td>\n",
       "      <td>0.0</td>\n",
       "      <td>0.0</td>\n",
       "      <td>50.0</td>\n",
       "      <td>30.0</td>\n",
       "      <td>0.0</td>\n",
       "      <td>60.0</td>\n",
       "      <td>30.0</td>\n",
       "      <td>0.0</td>\n",
       "      <td>140.0</td>\n",
       "      <td>...</td>\n",
       "      <td>1.37</td>\n",
       "      <td>0.82</td>\n",
       "      <td>1.07</td>\n",
       "      <td>1.59</td>\n",
       "      <td>1.07</td>\n",
       "      <td>1.93</td>\n",
       "      <td>3.41</td>\n",
       "      <td>1.59</td>\n",
       "      <td>1.93</td>\n",
       "      <td>I27001315</td>\n",
       "    </tr>\n",
       "    <tr>\n",
       "      <th>3</th>\n",
       "      <td>0.0</td>\n",
       "      <td>0.0</td>\n",
       "      <td>0.0</td>\n",
       "      <td>0.0</td>\n",
       "      <td>0.0</td>\n",
       "      <td>0.0</td>\n",
       "      <td>0.0</td>\n",
       "      <td>0.0</td>\n",
       "      <td>84.0</td>\n",
       "      <td>84.0</td>\n",
       "      <td>...</td>\n",
       "      <td>0.00</td>\n",
       "      <td>0.00</td>\n",
       "      <td>0.30</td>\n",
       "      <td>0.00</td>\n",
       "      <td>0.00</td>\n",
       "      <td>0.00</td>\n",
       "      <td>0.00</td>\n",
       "      <td>0.00</td>\n",
       "      <td>0.30</td>\n",
       "      <td>I150064127</td>\n",
       "    </tr>\n",
       "    <tr>\n",
       "      <th>4</th>\n",
       "      <td>20.0</td>\n",
       "      <td>100.0</td>\n",
       "      <td>0.0</td>\n",
       "      <td>0.0</td>\n",
       "      <td>0.0</td>\n",
       "      <td>0.0</td>\n",
       "      <td>0.0</td>\n",
       "      <td>0.0</td>\n",
       "      <td>0.0</td>\n",
       "      <td>0.0</td>\n",
       "      <td>...</td>\n",
       "      <td>1.37</td>\n",
       "      <td>0.82</td>\n",
       "      <td>0.60</td>\n",
       "      <td>1.42</td>\n",
       "      <td>0.00</td>\n",
       "      <td>0.56</td>\n",
       "      <td>0.56</td>\n",
       "      <td>2.60</td>\n",
       "      <td>0.86</td>\n",
       "      <td>I152631565</td>\n",
       "    </tr>\n",
       "    <tr>\n",
       "      <th>5</th>\n",
       "      <td>0.0</td>\n",
       "      <td>0.0</td>\n",
       "      <td>0.0</td>\n",
       "      <td>0.0</td>\n",
       "      <td>0.0</td>\n",
       "      <td>0.0</td>\n",
       "      <td>0.0</td>\n",
       "      <td>0.0</td>\n",
       "      <td>0.0</td>\n",
       "      <td>0.0</td>\n",
       "      <td>...</td>\n",
       "      <td>0.00</td>\n",
       "      <td>0.52</td>\n",
       "      <td>0.30</td>\n",
       "      <td>0.52</td>\n",
       "      <td>0.00</td>\n",
       "      <td>0.26</td>\n",
       "      <td>0.00</td>\n",
       "      <td>0.79</td>\n",
       "      <td>0.56</td>\n",
       "      <td>H62972005</td>\n",
       "    </tr>\n",
       "    <tr>\n",
       "      <th>6</th>\n",
       "      <td>0.0</td>\n",
       "      <td>0.0</td>\n",
       "      <td>0.0</td>\n",
       "      <td>0.0</td>\n",
       "      <td>20.0</td>\n",
       "      <td>20.0</td>\n",
       "      <td>20.0</td>\n",
       "      <td>20.0</td>\n",
       "      <td>20.0</td>\n",
       "      <td>20.0</td>\n",
       "      <td>...</td>\n",
       "      <td>0.56</td>\n",
       "      <td>0.00</td>\n",
       "      <td>0.00</td>\n",
       "      <td>0.00</td>\n",
       "      <td>0.00</td>\n",
       "      <td>0.00</td>\n",
       "      <td>0.00</td>\n",
       "      <td>0.30</td>\n",
       "      <td>0.30</td>\n",
       "      <td>I151044258</td>\n",
       "    </tr>\n",
       "    <tr>\n",
       "      <th>7</th>\n",
       "      <td>20.0</td>\n",
       "      <td>20.0</td>\n",
       "      <td>20.0</td>\n",
       "      <td>20.0</td>\n",
       "      <td>20.0</td>\n",
       "      <td>20.0</td>\n",
       "      <td>20.0</td>\n",
       "      <td>20.0</td>\n",
       "      <td>20.0</td>\n",
       "      <td>20.0</td>\n",
       "      <td>...</td>\n",
       "      <td>1.89</td>\n",
       "      <td>2.32</td>\n",
       "      <td>1.20</td>\n",
       "      <td>4.24</td>\n",
       "      <td>1.20</td>\n",
       "      <td>2.16</td>\n",
       "      <td>3.88</td>\n",
       "      <td>2.89</td>\n",
       "      <td>2.36</td>\n",
       "      <td>I95584028</td>\n",
       "    </tr>\n",
       "    <tr>\n",
       "      <th>8</th>\n",
       "      <td>20.0</td>\n",
       "      <td>20.0</td>\n",
       "      <td>20.0</td>\n",
       "      <td>20.0</td>\n",
       "      <td>0.0</td>\n",
       "      <td>0.0</td>\n",
       "      <td>0.0</td>\n",
       "      <td>0.0</td>\n",
       "      <td>0.0</td>\n",
       "      <td>0.0</td>\n",
       "      <td>...</td>\n",
       "      <td>2.15</td>\n",
       "      <td>2.36</td>\n",
       "      <td>1.50</td>\n",
       "      <td>4.24</td>\n",
       "      <td>1.20</td>\n",
       "      <td>1.86</td>\n",
       "      <td>3.88</td>\n",
       "      <td>2.89</td>\n",
       "      <td>2.96</td>\n",
       "      <td>I106802847</td>\n",
       "    </tr>\n",
       "    <tr>\n",
       "      <th>9</th>\n",
       "      <td>0.0</td>\n",
       "      <td>0.0</td>\n",
       "      <td>0.0</td>\n",
       "      <td>0.0</td>\n",
       "      <td>0.0</td>\n",
       "      <td>0.0</td>\n",
       "      <td>0.0</td>\n",
       "      <td>0.0</td>\n",
       "      <td>0.0</td>\n",
       "      <td>0.0</td>\n",
       "      <td>...</td>\n",
       "      <td>0.00</td>\n",
       "      <td>0.00</td>\n",
       "      <td>0.00</td>\n",
       "      <td>0.00</td>\n",
       "      <td>0.00</td>\n",
       "      <td>0.00</td>\n",
       "      <td>0.00</td>\n",
       "      <td>0.00</td>\n",
       "      <td>0.00</td>\n",
       "      <td>I149698399</td>\n",
       "    </tr>\n",
       "  </tbody>\n",
       "</table>\n",
       "<p>10 rows × 97 columns</p>\n",
       "</div>"
      ],
      "text/plain": [
       "   trans_amt_t_minus_00  trans_amt_t_minus_01  trans_amt_t_minus_02  \\\n",
       "0                   0.0                   0.0                  15.0   \n",
       "1                   0.0                   0.0                   0.0   \n",
       "2                  25.0                   0.0                   0.0   \n",
       "3                   0.0                   0.0                   0.0   \n",
       "4                  20.0                 100.0                   0.0   \n",
       "5                   0.0                   0.0                   0.0   \n",
       "6                   0.0                   0.0                   0.0   \n",
       "7                  20.0                  20.0                  20.0   \n",
       "8                  20.0                  20.0                  20.0   \n",
       "9                   0.0                   0.0                   0.0   \n",
       "\n",
       "   trans_amt_t_minus_03  trans_amt_t_minus_04  trans_amt_t_minus_05  \\\n",
       "0                   0.0                   0.0                   0.0   \n",
       "1                   0.0                   0.0                   0.0   \n",
       "2                  50.0                  30.0                   0.0   \n",
       "3                   0.0                   0.0                   0.0   \n",
       "4                   0.0                   0.0                   0.0   \n",
       "5                   0.0                   0.0                   0.0   \n",
       "6                   0.0                  20.0                  20.0   \n",
       "7                  20.0                  20.0                  20.0   \n",
       "8                  20.0                   0.0                   0.0   \n",
       "9                   0.0                   0.0                   0.0   \n",
       "\n",
       "   trans_amt_t_minus_06  trans_amt_t_minus_07  trans_amt_t_minus_08  \\\n",
       "0                   0.0                   0.0                   0.0   \n",
       "1                   0.0                   0.0                  20.0   \n",
       "2                  60.0                  30.0                   0.0   \n",
       "3                   0.0                   0.0                  84.0   \n",
       "4                   0.0                   0.0                   0.0   \n",
       "5                   0.0                   0.0                   0.0   \n",
       "6                  20.0                  20.0                  20.0   \n",
       "7                  20.0                  20.0                  20.0   \n",
       "8                   0.0                   0.0                   0.0   \n",
       "9                   0.0                   0.0                   0.0   \n",
       "\n",
       "   trans_amt_t_minus_09  ...  cost_amt_t_plus_04  cost_amt_t_plus_05  \\\n",
       "0                   0.0  ...                0.30                0.82   \n",
       "1                   0.0  ...                0.26                0.00   \n",
       "2                 140.0  ...                1.37                0.82   \n",
       "3                  84.0  ...                0.00                0.00   \n",
       "4                   0.0  ...                1.37                0.82   \n",
       "5                   0.0  ...                0.00                0.52   \n",
       "6                  20.0  ...                0.56                0.00   \n",
       "7                  20.0  ...                1.89                2.32   \n",
       "8                   0.0  ...                2.15                2.36   \n",
       "9                   0.0  ...                0.00                0.00   \n",
       "\n",
       "   cost_amt_t_plus_06  cost_amt_t_plus_07  cost_amt_t_plus_08  \\\n",
       "0                0.30                0.82                0.00   \n",
       "1                0.00                0.00                0.00   \n",
       "2                1.07                1.59                1.07   \n",
       "3                0.30                0.00                0.00   \n",
       "4                0.60                1.42                0.00   \n",
       "5                0.30                0.52                0.00   \n",
       "6                0.00                0.00                0.00   \n",
       "7                1.20                4.24                1.20   \n",
       "8                1.50                4.24                1.20   \n",
       "9                0.00                0.00                0.00   \n",
       "\n",
       "   cost_amt_t_plus_09  cost_amt_t_plus_10  cost_amt_t_plus_11  \\\n",
       "0                0.56                0.00                1.09   \n",
       "1                0.00                0.00                0.00   \n",
       "2                1.93                3.41                1.59   \n",
       "3                0.00                0.00                0.00   \n",
       "4                0.56                0.56                2.60   \n",
       "5                0.26                0.00                0.79   \n",
       "6                0.00                0.00                0.30   \n",
       "7                2.16                3.88                2.89   \n",
       "8                1.86                3.88                2.89   \n",
       "9                0.00                0.00                0.00   \n",
       "\n",
       "   cost_amt_t_plus_12     acct_ID  \n",
       "0                0.56  I148760611  \n",
       "1                0.00  I151076142  \n",
       "2                1.93   I27001315  \n",
       "3                0.30  I150064127  \n",
       "4                0.86  I152631565  \n",
       "5                0.56   H62972005  \n",
       "6                0.30  I151044258  \n",
       "7                2.36   I95584028  \n",
       "8                2.96  I106802847  \n",
       "9                0.00  I149698399  \n",
       "\n",
       "[10 rows x 97 columns]"
      ]
     },
     "execution_count": 5,
     "metadata": {},
     "output_type": "execute_result"
    }
   ],
   "source": [
    "margin_df.head(10)"
   ]
  },
  {
   "cell_type": "code",
   "execution_count": 6,
   "id": "f78bf314",
   "metadata": {},
   "outputs": [
    {
     "data": {
      "text/html": [
       "<div>\n",
       "<style scoped>\n",
       "    .dataframe tbody tr th:only-of-type {\n",
       "        vertical-align: middle;\n",
       "    }\n",
       "\n",
       "    .dataframe tbody tr th {\n",
       "        vertical-align: top;\n",
       "    }\n",
       "\n",
       "    .dataframe thead th {\n",
       "        text-align: right;\n",
       "    }\n",
       "</style>\n",
       "<table border=\"1\" class=\"dataframe\">\n",
       "  <thead>\n",
       "    <tr style=\"text-align: right;\">\n",
       "      <th></th>\n",
       "      <th>ST</th>\n",
       "      <th>Zip</th>\n",
       "      <th>DMA</th>\n",
       "      <th>Area_Cd</th>\n",
       "      <th>emailable</th>\n",
       "      <th>solicit_ph_ind</th>\n",
       "      <th>solicit_email_ind</th>\n",
       "      <th>fixd_incm_flg</th>\n",
       "      <th>scheduled_purchase_flg</th>\n",
       "      <th>months_since_last_trans</th>\n",
       "      <th>...</th>\n",
       "      <th>resp_cnt_36mo</th>\n",
       "      <th>call_in_mo_36mo</th>\n",
       "      <th>call_out_mo_36mo</th>\n",
       "      <th>order_cnt_36mo</th>\n",
       "      <th>tier</th>\n",
       "      <th>tier_prev</th>\n",
       "      <th>acct_ID</th>\n",
       "      <th>activation_date</th>\n",
       "      <th>event_date</th>\n",
       "      <th>churn_year_plus1_ind</th>\n",
       "    </tr>\n",
       "  </thead>\n",
       "  <tbody>\n",
       "    <tr>\n",
       "      <th>0</th>\n",
       "      <td>SC</td>\n",
       "      <td>29607</td>\n",
       "      <td>567</td>\n",
       "      <td>864</td>\n",
       "      <td>1</td>\n",
       "      <td>1</td>\n",
       "      <td>1</td>\n",
       "      <td>0</td>\n",
       "      <td>0</td>\n",
       "      <td>3</td>\n",
       "      <td>...</td>\n",
       "      <td>0</td>\n",
       "      <td>0</td>\n",
       "      <td>1</td>\n",
       "      <td>1</td>\n",
       "      <td>1-Bronze</td>\n",
       "      <td>xxx</td>\n",
       "      <td>I148760611</td>\n",
       "      <td>30NOV12</td>\n",
       "      <td>31MAY15</td>\n",
       "      <td>1</td>\n",
       "    </tr>\n",
       "    <tr>\n",
       "      <th>1</th>\n",
       "      <td>MO</td>\n",
       "      <td>63901</td>\n",
       "      <td>632</td>\n",
       "      <td>573</td>\n",
       "      <td>1</td>\n",
       "      <td>1</td>\n",
       "      <td>1</td>\n",
       "      <td>0</td>\n",
       "      <td>0</td>\n",
       "      <td>9</td>\n",
       "      <td>...</td>\n",
       "      <td>0</td>\n",
       "      <td>1</td>\n",
       "      <td>0</td>\n",
       "      <td>1</td>\n",
       "      <td>1-Bronze</td>\n",
       "      <td>xxx</td>\n",
       "      <td>I151076142</td>\n",
       "      <td>29NOV13</td>\n",
       "      <td>29NOV14</td>\n",
       "      <td>1</td>\n",
       "    </tr>\n",
       "    <tr>\n",
       "      <th>2</th>\n",
       "      <td>IL</td>\n",
       "      <td>60456</td>\n",
       "      <td>602</td>\n",
       "      <td>missing</td>\n",
       "      <td>0</td>\n",
       "      <td>1</td>\n",
       "      <td>1</td>\n",
       "      <td>0</td>\n",
       "      <td>0</td>\n",
       "      <td>1</td>\n",
       "      <td>...</td>\n",
       "      <td>2</td>\n",
       "      <td>0</td>\n",
       "      <td>0</td>\n",
       "      <td>4</td>\n",
       "      <td>1-Bronze</td>\n",
       "      <td>xxx</td>\n",
       "      <td>I27001315</td>\n",
       "      <td>05OCT00</td>\n",
       "      <td>NaN</td>\n",
       "      <td>0</td>\n",
       "    </tr>\n",
       "    <tr>\n",
       "      <th>3</th>\n",
       "      <td>FL</td>\n",
       "      <td>34698</td>\n",
       "      <td>539</td>\n",
       "      <td>727</td>\n",
       "      <td>1</td>\n",
       "      <td>1</td>\n",
       "      <td>1</td>\n",
       "      <td>0</td>\n",
       "      <td>0</td>\n",
       "      <td>9</td>\n",
       "      <td>...</td>\n",
       "      <td>0</td>\n",
       "      <td>1</td>\n",
       "      <td>1</td>\n",
       "      <td>3</td>\n",
       "      <td>3-Gold</td>\n",
       "      <td>xxx</td>\n",
       "      <td>I150064127</td>\n",
       "      <td>31JUL13</td>\n",
       "      <td>29NOV14</td>\n",
       "      <td>1</td>\n",
       "    </tr>\n",
       "    <tr>\n",
       "      <th>4</th>\n",
       "      <td>CA</td>\n",
       "      <td>92084</td>\n",
       "      <td>825</td>\n",
       "      <td>760</td>\n",
       "      <td>0</td>\n",
       "      <td>1</td>\n",
       "      <td>1</td>\n",
       "      <td>0</td>\n",
       "      <td>0</td>\n",
       "      <td>1</td>\n",
       "      <td>...</td>\n",
       "      <td>0</td>\n",
       "      <td>0</td>\n",
       "      <td>0</td>\n",
       "      <td>2</td>\n",
       "      <td>1-Bronze</td>\n",
       "      <td>xxx</td>\n",
       "      <td>I152631565</td>\n",
       "      <td>30JUN14</td>\n",
       "      <td>NaN</td>\n",
       "      <td>0</td>\n",
       "    </tr>\n",
       "    <tr>\n",
       "      <th>5</th>\n",
       "      <td>MI</td>\n",
       "      <td>48446</td>\n",
       "      <td>505</td>\n",
       "      <td>810</td>\n",
       "      <td>1</td>\n",
       "      <td>0</td>\n",
       "      <td>1</td>\n",
       "      <td>0</td>\n",
       "      <td>0</td>\n",
       "      <td>11</td>\n",
       "      <td>...</td>\n",
       "      <td>1</td>\n",
       "      <td>0</td>\n",
       "      <td>3</td>\n",
       "      <td>5</td>\n",
       "      <td>1-Bronze</td>\n",
       "      <td>2-Silver</td>\n",
       "      <td>H62972005</td>\n",
       "      <td>04JAN04</td>\n",
       "      <td>30SEP14</td>\n",
       "      <td>1</td>\n",
       "    </tr>\n",
       "    <tr>\n",
       "      <th>6</th>\n",
       "      <td>AL</td>\n",
       "      <td>35020</td>\n",
       "      <td>630</td>\n",
       "      <td>205</td>\n",
       "      <td>0</td>\n",
       "      <td>1</td>\n",
       "      <td>1</td>\n",
       "      <td>0</td>\n",
       "      <td>0</td>\n",
       "      <td>5</td>\n",
       "      <td>...</td>\n",
       "      <td>0</td>\n",
       "      <td>0</td>\n",
       "      <td>0</td>\n",
       "      <td>1</td>\n",
       "      <td>1-Bronze</td>\n",
       "      <td>xxx</td>\n",
       "      <td>I151044258</td>\n",
       "      <td>30OCT13</td>\n",
       "      <td>31MAR15</td>\n",
       "      <td>1</td>\n",
       "    </tr>\n",
       "    <tr>\n",
       "      <th>7</th>\n",
       "      <td>PR</td>\n",
       "      <td>missing</td>\n",
       "      <td>998</td>\n",
       "      <td>missing</td>\n",
       "      <td>0</td>\n",
       "      <td>1</td>\n",
       "      <td>1</td>\n",
       "      <td>0</td>\n",
       "      <td>1</td>\n",
       "      <td>1</td>\n",
       "      <td>...</td>\n",
       "      <td>0</td>\n",
       "      <td>0</td>\n",
       "      <td>0</td>\n",
       "      <td>2</td>\n",
       "      <td>1-Bronze</td>\n",
       "      <td>xxx</td>\n",
       "      <td>I95584028</td>\n",
       "      <td>04AUG04</td>\n",
       "      <td>NaN</td>\n",
       "      <td>0</td>\n",
       "    </tr>\n",
       "    <tr>\n",
       "      <th>8</th>\n",
       "      <td>AZ</td>\n",
       "      <td>85232</td>\n",
       "      <td>753</td>\n",
       "      <td>520</td>\n",
       "      <td>1</td>\n",
       "      <td>1</td>\n",
       "      <td>1</td>\n",
       "      <td>0</td>\n",
       "      <td>1</td>\n",
       "      <td>1</td>\n",
       "      <td>...</td>\n",
       "      <td>0</td>\n",
       "      <td>0</td>\n",
       "      <td>0</td>\n",
       "      <td>2</td>\n",
       "      <td>3-Gold</td>\n",
       "      <td>1-Bronze</td>\n",
       "      <td>I106802847</td>\n",
       "      <td>03SEP04</td>\n",
       "      <td>NaN</td>\n",
       "      <td>0</td>\n",
       "    </tr>\n",
       "    <tr>\n",
       "      <th>9</th>\n",
       "      <td>CA</td>\n",
       "      <td>95691</td>\n",
       "      <td>862</td>\n",
       "      <td>916</td>\n",
       "      <td>1</td>\n",
       "      <td>1</td>\n",
       "      <td>1</td>\n",
       "      <td>0</td>\n",
       "      <td>0</td>\n",
       "      <td>12</td>\n",
       "      <td>...</td>\n",
       "      <td>0</td>\n",
       "      <td>1</td>\n",
       "      <td>2</td>\n",
       "      <td>2</td>\n",
       "      <td>1-Bronze</td>\n",
       "      <td>xxx</td>\n",
       "      <td>I149698399</td>\n",
       "      <td>31MAY13</td>\n",
       "      <td>30AUG14</td>\n",
       "      <td>1</td>\n",
       "    </tr>\n",
       "  </tbody>\n",
       "</table>\n",
       "<p>10 rows × 31 columns</p>\n",
       "</div>"
      ],
      "text/plain": [
       "   ST      Zip  DMA  Area_Cd  emailable  solicit_ph_ind  solicit_email_ind  \\\n",
       "0  SC    29607  567      864          1               1                  1   \n",
       "1  MO    63901  632      573          1               1                  1   \n",
       "2  IL    60456  602  missing          0               1                  1   \n",
       "3  FL    34698  539      727          1               1                  1   \n",
       "4  CA    92084  825      760          0               1                  1   \n",
       "5  MI    48446  505      810          1               0                  1   \n",
       "6  AL    35020  630      205          0               1                  1   \n",
       "7  PR  missing  998  missing          0               1                  1   \n",
       "8  AZ    85232  753      520          1               1                  1   \n",
       "9  CA    95691  862      916          1               1                  1   \n",
       "\n",
       "   fixd_incm_flg  scheduled_purchase_flg  months_since_last_trans  ...  \\\n",
       "0              0                       0                        3  ...   \n",
       "1              0                       0                        9  ...   \n",
       "2              0                       0                        1  ...   \n",
       "3              0                       0                        9  ...   \n",
       "4              0                       0                        1  ...   \n",
       "5              0                       0                       11  ...   \n",
       "6              0                       0                        5  ...   \n",
       "7              0                       1                        1  ...   \n",
       "8              0                       1                        1  ...   \n",
       "9              0                       0                       12  ...   \n",
       "\n",
       "   resp_cnt_36mo  call_in_mo_36mo  call_out_mo_36mo  order_cnt_36mo      tier  \\\n",
       "0              0                0                 1               1  1-Bronze   \n",
       "1              0                1                 0               1  1-Bronze   \n",
       "2              2                0                 0               4  1-Bronze   \n",
       "3              0                1                 1               3    3-Gold   \n",
       "4              0                0                 0               2  1-Bronze   \n",
       "5              1                0                 3               5  1-Bronze   \n",
       "6              0                0                 0               1  1-Bronze   \n",
       "7              0                0                 0               2  1-Bronze   \n",
       "8              0                0                 0               2    3-Gold   \n",
       "9              0                1                 2               2  1-Bronze   \n",
       "\n",
       "   tier_prev     acct_ID  activation_date  event_date  churn_year_plus1_ind  \n",
       "0        xxx  I148760611          30NOV12     31MAY15                     1  \n",
       "1        xxx  I151076142          29NOV13     29NOV14                     1  \n",
       "2        xxx   I27001315          05OCT00         NaN                     0  \n",
       "3        xxx  I150064127          31JUL13     29NOV14                     1  \n",
       "4        xxx  I152631565          30JUN14         NaN                     0  \n",
       "5   2-Silver   H62972005          04JAN04     30SEP14                     1  \n",
       "6        xxx  I151044258          30OCT13     31MAR15                     1  \n",
       "7        xxx   I95584028          04AUG04         NaN                     0  \n",
       "8   1-Bronze  I106802847          03SEP04         NaN                     0  \n",
       "9        xxx  I149698399          31MAY13     30AUG14                     1  \n",
       "\n",
       "[10 rows x 31 columns]"
      ]
     },
     "execution_count": 6,
     "metadata": {},
     "output_type": "execute_result"
    }
   ],
   "source": [
    "churn_df.head(10)"
   ]
  },
  {
   "cell_type": "code",
   "execution_count": 7,
   "id": "8720d435",
   "metadata": {},
   "outputs": [
    {
     "data": {
      "text/html": [
       "<div>\n",
       "<style scoped>\n",
       "    .dataframe tbody tr th:only-of-type {\n",
       "        vertical-align: middle;\n",
       "    }\n",
       "\n",
       "    .dataframe tbody tr th {\n",
       "        vertical-align: top;\n",
       "    }\n",
       "\n",
       "    .dataframe thead th {\n",
       "        text-align: right;\n",
       "    }\n",
       "</style>\n",
       "<table border=\"1\" class=\"dataframe\">\n",
       "  <thead>\n",
       "    <tr style=\"text-align: right;\">\n",
       "      <th></th>\n",
       "      <th>demog_assets</th>\n",
       "      <th>demog_LOR</th>\n",
       "      <th>demog_ownrent</th>\n",
       "      <th>demog_age</th>\n",
       "      <th>demog_span</th>\n",
       "      <th>demog_inc_fine</th>\n",
       "      <th>demog_inc_crs</th>\n",
       "      <th>demog_generations</th>\n",
       "      <th>demog_homevalue</th>\n",
       "      <th>demog_adults</th>\n",
       "      <th>acct_ID</th>\n",
       "    </tr>\n",
       "  </thead>\n",
       "  <tbody>\n",
       "    <tr>\n",
       "      <th>0</th>\n",
       "      <td>IPA &lt;= 25000</td>\n",
       "      <td>4th Year</td>\n",
       "      <td>Definite Renter</td>\n",
       "      <td>35-44 years old</td>\n",
       "      <td>1</td>\n",
       "      <td>$  20000 - $  29999</td>\n",
       "      <td>$  15000 - $  29999</td>\n",
       "      <td>2</td>\n",
       "      <td>Less than $50000</td>\n",
       "      <td>2</td>\n",
       "      <td>I148760611</td>\n",
       "    </tr>\n",
       "    <tr>\n",
       "      <th>1</th>\n",
       "      <td>IPA &lt;= 25000</td>\n",
       "      <td>13 - 18 Months</td>\n",
       "      <td>Definite Owner (any type dwelling unit)</td>\n",
       "      <td>35-44 years old</td>\n",
       "      <td>0</td>\n",
       "      <td>$  20000 - $  29999</td>\n",
       "      <td>Less than $15000</td>\n",
       "      <td>1</td>\n",
       "      <td>$ 50000 - $ 99999</td>\n",
       "      <td>1</td>\n",
       "      <td>I151076142</td>\n",
       "    </tr>\n",
       "    <tr>\n",
       "      <th>2</th>\n",
       "      <td>IPA &lt;= 25000</td>\n",
       "      <td>11th Year</td>\n",
       "      <td>Definite Owner (any type dwelling unit)</td>\n",
       "      <td>55-64 years old</td>\n",
       "      <td>0</td>\n",
       "      <td>Less than $15000</td>\n",
       "      <td>Less than $15000</td>\n",
       "      <td>1</td>\n",
       "      <td>Less than $50000</td>\n",
       "      <td>1</td>\n",
       "      <td>I27001315</td>\n",
       "    </tr>\n",
       "    <tr>\n",
       "      <th>3</th>\n",
       "      <td>250000 &lt; IPA &lt;= 500000</td>\n",
       "      <td>3rd Year</td>\n",
       "      <td>Definite Owner (any type dwelling unit)</td>\n",
       "      <td>55-64 years old</td>\n",
       "      <td>0</td>\n",
       "      <td>$  50000 - $  74999</td>\n",
       "      <td>$  50000 - $  74999</td>\n",
       "      <td>1</td>\n",
       "      <td>$150000 - $199999</td>\n",
       "      <td>1</td>\n",
       "      <td>I150064127</td>\n",
       "    </tr>\n",
       "    <tr>\n",
       "      <th>4</th>\n",
       "      <td>250000 &lt; IPA &lt;= 500000</td>\n",
       "      <td>9th Year</td>\n",
       "      <td>Definite Owner (any type dwelling unit)</td>\n",
       "      <td>45-54 years old</td>\n",
       "      <td>0</td>\n",
       "      <td>$ 100000 - $124999</td>\n",
       "      <td>$ 100000 - $149999</td>\n",
       "      <td>2</td>\n",
       "      <td>$350000 - $399999</td>\n",
       "      <td>3</td>\n",
       "      <td>I152631565</td>\n",
       "    </tr>\n",
       "    <tr>\n",
       "      <th>5</th>\n",
       "      <td>IPA &lt;= 25000</td>\n",
       "      <td>12th Year</td>\n",
       "      <td>Definite Owner (any type dwelling unit)</td>\n",
       "      <td>65-74 years old</td>\n",
       "      <td>0</td>\n",
       "      <td>$  30000 - $  39999</td>\n",
       "      <td>$  30000 - $  39999</td>\n",
       "      <td>3</td>\n",
       "      <td>$300000 - $349999</td>\n",
       "      <td>3</td>\n",
       "      <td>H62972005</td>\n",
       "    </tr>\n",
       "    <tr>\n",
       "      <th>6</th>\n",
       "      <td>IPA &lt;= 25000</td>\n",
       "      <td>19th Year</td>\n",
       "      <td>Definite Owner (any type dwelling unit)</td>\n",
       "      <td>55-64 years old</td>\n",
       "      <td>0</td>\n",
       "      <td>Less than $15000</td>\n",
       "      <td>Less than $15000</td>\n",
       "      <td>1</td>\n",
       "      <td>Less than $50000</td>\n",
       "      <td>2</td>\n",
       "      <td>I151044258</td>\n",
       "    </tr>\n",
       "    <tr>\n",
       "      <th>7</th>\n",
       "      <td>IPA &lt;= 25000</td>\n",
       "      <td>10th Year</td>\n",
       "      <td>Probable Owner (any type dwelling unit)</td>\n",
       "      <td>65-74 years old</td>\n",
       "      <td>0</td>\n",
       "      <td>Less than $15000</td>\n",
       "      <td>Less than $15000</td>\n",
       "      <td>2</td>\n",
       "      <td>Less than $50000</td>\n",
       "      <td>2</td>\n",
       "      <td>I95584028</td>\n",
       "    </tr>\n",
       "    <tr>\n",
       "      <th>8</th>\n",
       "      <td>100000 &lt; IPA &lt;= 250000</td>\n",
       "      <td>17th Year</td>\n",
       "      <td>Definite Owner (any type dwelling unit)</td>\n",
       "      <td>45-54 years old</td>\n",
       "      <td>0</td>\n",
       "      <td>$  75000 - $  99999</td>\n",
       "      <td>$  75000 - $  99999</td>\n",
       "      <td>3</td>\n",
       "      <td>$ 50000 - $ 99999</td>\n",
       "      <td>3</td>\n",
       "      <td>I106802847</td>\n",
       "    </tr>\n",
       "    <tr>\n",
       "      <th>9</th>\n",
       "      <td>IPA &lt;= 25000</td>\n",
       "      <td>20 or more Years</td>\n",
       "      <td>Definite Owner (any type dwelling unit)</td>\n",
       "      <td>35-44 years old</td>\n",
       "      <td>0</td>\n",
       "      <td>$  75000 - $  99999</td>\n",
       "      <td>$ 100000 - $149999</td>\n",
       "      <td>1</td>\n",
       "      <td>$100000 - $149999</td>\n",
       "      <td>2</td>\n",
       "      <td>I149698399</td>\n",
       "    </tr>\n",
       "  </tbody>\n",
       "</table>\n",
       "</div>"
      ],
      "text/plain": [
       "             demog_assets         demog_LOR  \\\n",
       "0            IPA <= 25000          4th Year   \n",
       "1            IPA <= 25000    13 - 18 Months   \n",
       "2            IPA <= 25000         11th Year   \n",
       "3  250000 < IPA <= 500000          3rd Year   \n",
       "4  250000 < IPA <= 500000          9th Year   \n",
       "5            IPA <= 25000         12th Year   \n",
       "6            IPA <= 25000         19th Year   \n",
       "7            IPA <= 25000         10th Year   \n",
       "8  100000 < IPA <= 250000         17th Year   \n",
       "9            IPA <= 25000  20 or more Years   \n",
       "\n",
       "                             demog_ownrent        demog_age  demog_span  \\\n",
       "0                          Definite Renter  35-44 years old           1   \n",
       "1  Definite Owner (any type dwelling unit)  35-44 years old           0   \n",
       "2  Definite Owner (any type dwelling unit)  55-64 years old           0   \n",
       "3  Definite Owner (any type dwelling unit)  55-64 years old           0   \n",
       "4  Definite Owner (any type dwelling unit)  45-54 years old           0   \n",
       "5  Definite Owner (any type dwelling unit)  65-74 years old           0   \n",
       "6  Definite Owner (any type dwelling unit)  55-64 years old           0   \n",
       "7  Probable Owner (any type dwelling unit)  65-74 years old           0   \n",
       "8  Definite Owner (any type dwelling unit)  45-54 years old           0   \n",
       "9  Definite Owner (any type dwelling unit)  35-44 years old           0   \n",
       "\n",
       "        demog_inc_fine        demog_inc_crs  demog_generations  \\\n",
       "0  $  20000 - $  29999  $  15000 - $  29999                  2   \n",
       "1  $  20000 - $  29999     Less than $15000                  1   \n",
       "2     Less than $15000     Less than $15000                  1   \n",
       "3  $  50000 - $  74999  $  50000 - $  74999                  1   \n",
       "4   $ 100000 - $124999   $ 100000 - $149999                  2   \n",
       "5  $  30000 - $  39999  $  30000 - $  39999                  3   \n",
       "6     Less than $15000     Less than $15000                  1   \n",
       "7     Less than $15000     Less than $15000                  2   \n",
       "8  $  75000 - $  99999  $  75000 - $  99999                  3   \n",
       "9  $  75000 - $  99999   $ 100000 - $149999                  1   \n",
       "\n",
       "     demog_homevalue  demog_adults     acct_ID  \n",
       "0   Less than $50000             2  I148760611  \n",
       "1  $ 50000 - $ 99999             1  I151076142  \n",
       "2   Less than $50000             1   I27001315  \n",
       "3  $150000 - $199999             1  I150064127  \n",
       "4  $350000 - $399999             3  I152631565  \n",
       "5  $300000 - $349999             3   H62972005  \n",
       "6   Less than $50000             2  I151044258  \n",
       "7   Less than $50000             2   I95584028  \n",
       "8  $ 50000 - $ 99999             3  I106802847  \n",
       "9  $100000 - $149999             2  I149698399  "
      ]
     },
     "execution_count": 7,
     "metadata": {},
     "output_type": "execute_result"
    }
   ],
   "source": [
    "demo_df.head(10)"
   ]
  },
  {
   "cell_type": "code",
   "execution_count": 8,
   "id": "460e3fea",
   "metadata": {},
   "outputs": [
    {
     "data": {
      "text/html": [
       "<div>\n",
       "<style scoped>\n",
       "    .dataframe tbody tr th:only-of-type {\n",
       "        vertical-align: middle;\n",
       "    }\n",
       "\n",
       "    .dataframe tbody tr th {\n",
       "        vertical-align: top;\n",
       "    }\n",
       "\n",
       "    .dataframe thead th {\n",
       "        text-align: right;\n",
       "    }\n",
       "</style>\n",
       "<table border=\"1\" class=\"dataframe\">\n",
       "  <thead>\n",
       "    <tr style=\"text-align: right;\">\n",
       "      <th></th>\n",
       "      <th>count</th>\n",
       "      <th>mean</th>\n",
       "      <th>std</th>\n",
       "      <th>min</th>\n",
       "      <th>25%</th>\n",
       "      <th>50%</th>\n",
       "      <th>75%</th>\n",
       "      <th>max</th>\n",
       "    </tr>\n",
       "  </thead>\n",
       "  <tbody>\n",
       "    <tr>\n",
       "      <th>trans_amt_t_minus_00</th>\n",
       "      <td>240368.0</td>\n",
       "      <td>37.501978</td>\n",
       "      <td>456.731401</td>\n",
       "      <td>0.0</td>\n",
       "      <td>0.00</td>\n",
       "      <td>20.00</td>\n",
       "      <td>40.00</td>\n",
       "      <td>200000.00</td>\n",
       "    </tr>\n",
       "    <tr>\n",
       "      <th>trans_amt_t_minus_01</th>\n",
       "      <td>240368.0</td>\n",
       "      <td>41.950652</td>\n",
       "      <td>467.858835</td>\n",
       "      <td>0.0</td>\n",
       "      <td>0.00</td>\n",
       "      <td>20.00</td>\n",
       "      <td>40.00</td>\n",
       "      <td>175000.00</td>\n",
       "    </tr>\n",
       "    <tr>\n",
       "      <th>trans_amt_t_minus_02</th>\n",
       "      <td>240368.0</td>\n",
       "      <td>41.038183</td>\n",
       "      <td>879.318725</td>\n",
       "      <td>0.0</td>\n",
       "      <td>0.00</td>\n",
       "      <td>20.00</td>\n",
       "      <td>30.00</td>\n",
       "      <td>307992.62</td>\n",
       "    </tr>\n",
       "    <tr>\n",
       "      <th>trans_amt_t_minus_03</th>\n",
       "      <td>240368.0</td>\n",
       "      <td>33.519849</td>\n",
       "      <td>201.652307</td>\n",
       "      <td>0.0</td>\n",
       "      <td>0.00</td>\n",
       "      <td>20.00</td>\n",
       "      <td>35.00</td>\n",
       "      <td>57600.00</td>\n",
       "    </tr>\n",
       "    <tr>\n",
       "      <th>trans_amt_t_minus_04</th>\n",
       "      <td>240368.0</td>\n",
       "      <td>35.888688</td>\n",
       "      <td>178.737354</td>\n",
       "      <td>0.0</td>\n",
       "      <td>0.00</td>\n",
       "      <td>20.00</td>\n",
       "      <td>40.00</td>\n",
       "      <td>25000.00</td>\n",
       "    </tr>\n",
       "    <tr>\n",
       "      <th>...</th>\n",
       "      <td>...</td>\n",
       "      <td>...</td>\n",
       "      <td>...</td>\n",
       "      <td>...</td>\n",
       "      <td>...</td>\n",
       "      <td>...</td>\n",
       "      <td>...</td>\n",
       "      <td>...</td>\n",
       "    </tr>\n",
       "    <tr>\n",
       "      <th>cost_amt_t_plus_08</th>\n",
       "      <td>240368.0</td>\n",
       "      <td>2.132197</td>\n",
       "      <td>6.676597</td>\n",
       "      <td>0.0</td>\n",
       "      <td>0.00</td>\n",
       "      <td>0.60</td>\n",
       "      <td>1.20</td>\n",
       "      <td>335.19</td>\n",
       "    </tr>\n",
       "    <tr>\n",
       "      <th>cost_amt_t_plus_09</th>\n",
       "      <td>240368.0</td>\n",
       "      <td>2.716945</td>\n",
       "      <td>6.782105</td>\n",
       "      <td>0.0</td>\n",
       "      <td>0.30</td>\n",
       "      <td>1.33</td>\n",
       "      <td>2.23</td>\n",
       "      <td>339.82</td>\n",
       "    </tr>\n",
       "    <tr>\n",
       "      <th>cost_amt_t_plus_10</th>\n",
       "      <td>240368.0</td>\n",
       "      <td>3.702092</td>\n",
       "      <td>7.354860</td>\n",
       "      <td>0.0</td>\n",
       "      <td>0.30</td>\n",
       "      <td>2.38</td>\n",
       "      <td>4.14</td>\n",
       "      <td>384.79</td>\n",
       "    </tr>\n",
       "    <tr>\n",
       "      <th>cost_amt_t_plus_11</th>\n",
       "      <td>240368.0</td>\n",
       "      <td>3.120577</td>\n",
       "      <td>7.049051</td>\n",
       "      <td>0.0</td>\n",
       "      <td>0.52</td>\n",
       "      <td>1.59</td>\n",
       "      <td>2.92</td>\n",
       "      <td>589.82</td>\n",
       "    </tr>\n",
       "    <tr>\n",
       "      <th>cost_amt_t_plus_12</th>\n",
       "      <td>240368.0</td>\n",
       "      <td>2.689663</td>\n",
       "      <td>6.505744</td>\n",
       "      <td>0.0</td>\n",
       "      <td>0.56</td>\n",
       "      <td>1.16</td>\n",
       "      <td>2.36</td>\n",
       "      <td>461.41</td>\n",
       "    </tr>\n",
       "  </tbody>\n",
       "</table>\n",
       "<p>96 rows × 8 columns</p>\n",
       "</div>"
      ],
      "text/plain": [
       "                         count       mean         std  min   25%    50%  \\\n",
       "trans_amt_t_minus_00  240368.0  37.501978  456.731401  0.0  0.00  20.00   \n",
       "trans_amt_t_minus_01  240368.0  41.950652  467.858835  0.0  0.00  20.00   \n",
       "trans_amt_t_minus_02  240368.0  41.038183  879.318725  0.0  0.00  20.00   \n",
       "trans_amt_t_minus_03  240368.0  33.519849  201.652307  0.0  0.00  20.00   \n",
       "trans_amt_t_minus_04  240368.0  35.888688  178.737354  0.0  0.00  20.00   \n",
       "...                        ...        ...         ...  ...   ...    ...   \n",
       "cost_amt_t_plus_08    240368.0   2.132197    6.676597  0.0  0.00   0.60   \n",
       "cost_amt_t_plus_09    240368.0   2.716945    6.782105  0.0  0.30   1.33   \n",
       "cost_amt_t_plus_10    240368.0   3.702092    7.354860  0.0  0.30   2.38   \n",
       "cost_amt_t_plus_11    240368.0   3.120577    7.049051  0.0  0.52   1.59   \n",
       "cost_amt_t_plus_12    240368.0   2.689663    6.505744  0.0  0.56   1.16   \n",
       "\n",
       "                        75%        max  \n",
       "trans_amt_t_minus_00  40.00  200000.00  \n",
       "trans_amt_t_minus_01  40.00  175000.00  \n",
       "trans_amt_t_minus_02  30.00  307992.62  \n",
       "trans_amt_t_minus_03  35.00   57600.00  \n",
       "trans_amt_t_minus_04  40.00   25000.00  \n",
       "...                     ...        ...  \n",
       "cost_amt_t_plus_08     1.20     335.19  \n",
       "cost_amt_t_plus_09     2.23     339.82  \n",
       "cost_amt_t_plus_10     4.14     384.79  \n",
       "cost_amt_t_plus_11     2.92     589.82  \n",
       "cost_amt_t_plus_12     2.36     461.41  \n",
       "\n",
       "[96 rows x 8 columns]"
      ]
     },
     "execution_count": 8,
     "metadata": {},
     "output_type": "execute_result"
    }
   ],
   "source": [
    "margin_df.describe().T"
   ]
  },
  {
   "cell_type": "code",
   "execution_count": 9,
   "id": "faccc8c5",
   "metadata": {},
   "outputs": [
    {
     "name": "stdout",
     "output_type": "stream",
     "text": [
      " summary stats on margin data \n",
      "                   count  unique         top freq        mean          std  \\\n",
      "acct_ID           240368  239356  I152065826    3         NaN          NaN   \n",
      "margin_Y_neg_1  240368.0     NaN         NaN  NaN  221.160207  1529.891172   \n",
      "margin_Y_neg_2  240368.0     NaN         NaN  NaN  188.612409  1921.481227   \n",
      "margin_Y_neg_3  240368.0     NaN         NaN  NaN   165.35382  2129.313273   \n",
      "margin_Y_pos_1  240368.0     NaN         NaN  NaN   353.59658  2056.654404   \n",
      "\n",
      "                     min   25%      50%       75%        max  \n",
      "acct_ID              NaN   NaN      NaN       NaN        NaN  \n",
      "margin_Y_neg_1 -15084.25  42.2  181.915    337.05  284605.19  \n",
      "margin_Y_neg_2 -21224.13   0.0   125.45  294.4525  469878.25  \n",
      "margin_Y_neg_3  -7515.94   0.0   28.255     245.4  493368.29  \n",
      "margin_Y_pos_1  -3509.67 -2.21  159.395  332.0025  399818.38  \n"
     ]
    }
   ],
   "source": [
    "## Creating Margin Model Features for Annual Margins\n",
    "margin_df['rev_Y_neg_1']=margin_df['trans_amt_t_minus_00']+margin_df['trans_amt_t_minus_01']+margin_df['trans_amt_t_minus_02']+margin_df['trans_amt_t_minus_03']+margin_df['trans_amt_t_minus_04']+margin_df['trans_amt_t_minus_05']+margin_df['trans_amt_t_minus_06']+margin_df['trans_amt_t_minus_07']+margin_df['trans_amt_t_minus_08']+margin_df['trans_amt_t_minus_09']+margin_df['trans_amt_t_minus_10']+margin_df['trans_amt_t_minus_11']\n",
    "margin_df['cost_Y_neg_1']=margin_df['cost_amt_t_minus_00']+margin_df['cost_amt_t_minus_01']+margin_df['cost_amt_t_minus_02']+margin_df['cost_amt_t_minus_03']+margin_df['cost_amt_t_minus_04']+margin_df['cost_amt_t_minus_05']+margin_df['cost_amt_t_minus_06']+margin_df['cost_amt_t_minus_07']+margin_df['cost_amt_t_minus_08']+margin_df['cost_amt_t_minus_09']+margin_df['cost_amt_t_minus_10']+margin_df['cost_amt_t_minus_11']\n",
    "margin_df['margin_Y_neg_1']=margin_df['rev_Y_neg_1']-margin_df['cost_Y_neg_1']\n",
    "\n",
    "margin_df['rev_Y_neg_2']=margin_df['trans_amt_t_minus_12']+margin_df['trans_amt_t_minus_13']+margin_df['trans_amt_t_minus_14']+margin_df['trans_amt_t_minus_15']+margin_df['trans_amt_t_minus_16']+margin_df['trans_amt_t_minus_17']+margin_df['trans_amt_t_minus_18']+margin_df['trans_amt_t_minus_19']+margin_df['trans_amt_t_minus_20']+margin_df['trans_amt_t_minus_21']+margin_df['trans_amt_t_minus_22']+margin_df['trans_amt_t_minus_23']\n",
    "margin_df['cost_Y_neg_2']=margin_df['cost_amt_t_minus_12']+margin_df['cost_amt_t_minus_13']+margin_df['cost_amt_t_minus_14']+margin_df['cost_amt_t_minus_15']+margin_df['cost_amt_t_minus_16']+margin_df['cost_amt_t_minus_17']+margin_df['cost_amt_t_minus_18']+margin_df['cost_amt_t_minus_19']+margin_df['cost_amt_t_minus_20']+margin_df['cost_amt_t_minus_21']+margin_df['cost_amt_t_minus_22']+margin_df['cost_amt_t_minus_23']\n",
    "margin_df['margin_Y_neg_2']=margin_df['rev_Y_neg_2']-margin_df['cost_Y_neg_2']\n",
    "\n",
    "margin_df['rev_Y_neg_3']=margin_df['trans_amt_t_minus_24']+margin_df['trans_amt_t_minus_25']+margin_df['trans_amt_t_minus_26']+margin_df['trans_amt_t_minus_27']+margin_df['trans_amt_t_minus_28']+margin_df['trans_amt_t_minus_29']+margin_df['trans_amt_t_minus_30']+margin_df['trans_amt_t_minus_31']+margin_df['trans_amt_t_minus_32']+margin_df['trans_amt_t_minus_33']+margin_df['trans_amt_t_minus_34']+margin_df['trans_amt_t_minus_35']\n",
    "margin_df['cost_Y_neg_3']=margin_df['cost_amt_t_minus_24']+margin_df['cost_amt_t_minus_25']+margin_df['cost_amt_t_minus_26']+margin_df['cost_amt_t_minus_27']+margin_df['cost_amt_t_minus_28']+margin_df['cost_amt_t_minus_29']+margin_df['cost_amt_t_minus_30']+margin_df['cost_amt_t_minus_31']+margin_df['cost_amt_t_minus_32']+margin_df['cost_amt_t_minus_33']+margin_df['cost_amt_t_minus_34']+margin_df['cost_amt_t_minus_35']\n",
    "margin_df['margin_Y_neg_3']=margin_df['rev_Y_neg_3']-margin_df['cost_Y_neg_3']\n",
    "\n",
    "margin_df['rev_Y_pos_1']=margin_df['trans_amt_t_plus_01']+margin_df['trans_amt_t_plus_02']+margin_df['trans_amt_t_plus_03']+margin_df['trans_amt_t_plus_04']+margin_df['trans_amt_t_plus_05']+margin_df['trans_amt_t_plus_06']+margin_df['trans_amt_t_plus_07']+margin_df['trans_amt_t_plus_08']+margin_df['trans_amt_t_plus_09']+margin_df['trans_amt_t_plus_10']+margin_df['trans_amt_t_plus_11']+margin_df['trans_amt_t_plus_12']\n",
    "margin_df['cost_Y_pos_1']=margin_df['cost_amt_t_plus_01']+margin_df['cost_amt_t_plus_02']+margin_df['cost_amt_t_plus_03']+margin_df['cost_amt_t_plus_04']+margin_df['cost_amt_t_plus_05']+margin_df['cost_amt_t_plus_06']+margin_df['cost_amt_t_plus_07']+margin_df['cost_amt_t_plus_08']+margin_df['cost_amt_t_plus_09']+margin_df['cost_amt_t_plus_10']+margin_df['cost_amt_t_plus_11']+margin_df['cost_amt_t_plus_12']\n",
    "margin_df['margin_Y_pos_1']=margin_df['rev_Y_pos_1']-margin_df['cost_Y_pos_1']\n",
    "\n",
    "margin_df = margin_df[['acct_ID','margin_Y_neg_1','margin_Y_neg_2','margin_Y_neg_3','margin_Y_pos_1']]\n",
    "\n",
    "print(\" summary stats on margin data \") \n",
    "print(margin_df.describe(include='all').transpose())"
   ]
  },
  {
   "cell_type": "code",
   "execution_count": 10,
   "id": "f1a909b0",
   "metadata": {},
   "outputs": [],
   "source": [
    "#margin_df['margin_Y_pos_1'].hist(bins=40)"
   ]
  },
  {
   "cell_type": "code",
   "execution_count": 11,
   "id": "4f727de4",
   "metadata": {
    "scrolled": true
   },
   "outputs": [
    {
     "name": "stdout",
     "output_type": "stream",
     "text": [
      " summary stats on churn data \n",
      "                             count  unique         top    freq       mean  \\\n",
      "ST                          240368      61          TX   21633        NaN   \n",
      "Zip                         240368   26124     missing     894        NaN   \n",
      "DMA                         240368     216         803    9721        NaN   \n",
      "Area_Cd                     240368     384     missing   13090        NaN   \n",
      "emailable                 240368.0     NaN         NaN     NaN   0.514931   \n",
      "solicit_ph_ind            240368.0     NaN         NaN     NaN   0.892619   \n",
      "solicit_email_ind         240368.0     NaN         NaN     NaN   0.964118   \n",
      "fixd_incm_flg             240368.0     NaN         NaN     NaN   0.092296   \n",
      "scheduled_purchase_flg    240368.0     NaN         NaN     NaN   0.259989   \n",
      "months_since_last_trans   240368.0     NaN         NaN     NaN   2.915554   \n",
      "months_since_first_trans  240368.0     NaN         NaN     NaN  65.444868   \n",
      "purch_avg_interval        240368.0     NaN         NaN     NaN   4.932118   \n",
      "mail_cnt_36mo             240368.0     NaN         NaN     NaN  19.022882   \n",
      "call_in_mo_36mo           240368.0     NaN         NaN     NaN   7.767523   \n",
      "call_out_mo_36mo          240368.0     NaN         NaN     NaN    2.26707   \n",
      "tier                        240368       5    1-Bronze  154543        NaN   \n",
      "tier_prev                   240368       6         xxx  162512        NaN   \n",
      "acct_ID                     240368  239356  I152065826       3        NaN   \n",
      "activation_date             240368     208     06JUL00   17375        NaN   \n",
      "event_date                   63428      12     31JUL15    6908        NaN   \n",
      "churn_year_plus1_ind      240368.0     NaN         NaN     NaN   0.263879   \n",
      "log_order_cnt_36mo        240368.0     NaN         NaN     NaN   0.736524   \n",
      "log_purch_amt_36mo        240368.0     NaN         NaN     NaN   2.602795   \n",
      "log_purch_amt_life        240368.0     NaN         NaN     NaN   2.858985   \n",
      "log_purch_avg_36mo        240368.0     NaN         NaN     NaN   1.539854   \n",
      "log_purch_cnt_life        240368.0     NaN         NaN     NaN   1.398659   \n",
      "log_purch_cnt_tt_36mo     240368.0     NaN         NaN     NaN   1.140293   \n",
      "log_resp_cnt_36mo         240368.0     NaN         NaN     NaN   0.321359   \n",
      "perc_purch_cc_36mo        240368.0     NaN         NaN     NaN   0.307502   \n",
      "perc_purch_ck_36mo        240368.0     NaN         NaN     NaN   0.560083   \n",
      "perc_purch_et_36mo        240368.0     NaN         NaN     NaN   0.132326   \n",
      "\n",
      "                                std      min       25%       50%       75%  \\\n",
      "ST                              NaN      NaN       NaN       NaN       NaN   \n",
      "Zip                             NaN      NaN       NaN       NaN       NaN   \n",
      "DMA                             NaN      NaN       NaN       NaN       NaN   \n",
      "Area_Cd                         NaN      NaN       NaN       NaN       NaN   \n",
      "emailable                  0.499778      0.0       0.0       1.0       1.0   \n",
      "solicit_ph_ind             0.309598      0.0       1.0       1.0       1.0   \n",
      "solicit_email_ind          0.185998      0.0       1.0       1.0       1.0   \n",
      "fixd_incm_flg              0.289444      0.0       0.0       0.0       0.0   \n",
      "scheduled_purchase_flg     0.438629      0.0       0.0       0.0       1.0   \n",
      "months_since_last_trans    3.111117      1.0       1.0       1.0       4.0   \n",
      "months_since_first_trans  58.154035      1.0      14.0      46.0     110.0   \n",
      "purch_avg_interval        10.092145      0.0       1.0      1.22      2.59   \n",
      "mail_cnt_36mo             14.783964      0.0       6.0      16.0      33.0   \n",
      "call_in_mo_36mo           47.389224      0.0       0.0       0.0       3.0   \n",
      "call_out_mo_36mo           2.366213      0.0       1.0       2.0       3.0   \n",
      "tier                            NaN      NaN       NaN       NaN       NaN   \n",
      "tier_prev                       NaN      NaN       NaN       NaN       NaN   \n",
      "acct_ID                         NaN      NaN       NaN       NaN       NaN   \n",
      "activation_date                 NaN      NaN       NaN       NaN       NaN   \n",
      "event_date                      NaN      NaN       NaN       NaN       NaN   \n",
      "churn_year_plus1_ind       0.440735      0.0       0.0       0.0       1.0   \n",
      "log_order_cnt_36mo         0.289364      0.0   0.60206   0.69897   0.90309   \n",
      "log_purch_amt_36mo         0.647434      0.0  2.206826  2.708421  3.023664   \n",
      "log_purch_amt_life         0.797593      0.0  2.344392  2.904153   3.43072   \n",
      "log_purch_avg_36mo         0.350007      0.0  1.322219  1.414973  1.676876   \n",
      "log_purch_cnt_life         0.604891  0.30103  0.954243  1.431364  1.869232   \n",
      "log_purch_cnt_tt_36mo      0.428746      0.0  0.845098  1.230449  1.531479   \n",
      "log_resp_cnt_36mo          0.448638      0.0       0.0       0.0   0.60206   \n",
      "perc_purch_cc_36mo         0.439354      0.0       0.0       0.0  0.928571   \n",
      "perc_purch_ck_36mo         0.469832      0.0       0.0  0.933333       1.0   \n",
      "perc_purch_et_36mo         0.322091      0.0       0.0       0.0       0.0   \n",
      "\n",
      "                               max  \n",
      "ST                             NaN  \n",
      "Zip                            NaN  \n",
      "DMA                            NaN  \n",
      "Area_Cd                        NaN  \n",
      "emailable                      1.0  \n",
      "solicit_ph_ind                 1.0  \n",
      "solicit_email_ind              1.0  \n",
      "fixd_incm_flg                  1.0  \n",
      "scheduled_purchase_flg         1.0  \n",
      "months_since_last_trans       12.0  \n",
      "months_since_first_trans     290.0  \n",
      "purch_avg_interval           168.0  \n",
      "mail_cnt_36mo                424.0  \n",
      "call_in_mo_36mo             2670.0  \n",
      "call_out_mo_36mo              38.0  \n",
      "tier                           NaN  \n",
      "tier_prev                      NaN  \n",
      "acct_ID                        NaN  \n",
      "activation_date                NaN  \n",
      "event_date                     NaN  \n",
      "churn_year_plus1_ind           1.0  \n",
      "log_order_cnt_36mo        2.778151  \n",
      "log_purch_amt_36mo         6.08636  \n",
      "log_purch_amt_life         6.74026  \n",
      "log_purch_avg_36mo        5.484301  \n",
      "log_purch_cnt_life        3.421604  \n",
      "log_purch_cnt_tt_36mo     2.677607  \n",
      "log_resp_cnt_36mo         2.605305  \n",
      "perc_purch_cc_36mo             2.0  \n",
      "perc_purch_ck_36mo             2.0  \n",
      "perc_purch_et_36mo        1.083333  \n"
     ]
    }
   ],
   "source": [
    "# Churn Data Preprocessing\n",
    "\"\"\" when avg interval = -1 replace with 36 months \"\"\"\n",
    "churn_df['purch_avg_interval'].replace([-1], 36, inplace=True)\n",
    "\n",
    "\"\"\" when avg purchase = -1 replace with 0 \"\"\"\n",
    "churn_df['purch_avg_36mo'].replace([-1], 0, inplace=True)\n",
    "\n",
    "churn_df['log_order_cnt_36mo']=np.log10(churn_df['order_cnt_36mo']+1)\n",
    "churn_df['log_purch_amt_36mo']=np.log10(churn_df['purch_amt_36mo']+1)\n",
    "churn_df['log_purch_amt_life']=np.log10(churn_df['purch_amt_life']+1)\n",
    "churn_df['log_purch_avg_36mo']=np.log10(churn_df['purch_avg_36mo']+1)\n",
    "churn_df['log_purch_cnt_life']=np.log10(churn_df['purch_cnt_life']+1)\n",
    "churn_df['log_purch_cnt_tt_36mo']=np.log10(churn_df['purch_cnt_tt_36mo']+1)\n",
    "churn_df['log_resp_cnt_36mo']=np.log10(churn_df['resp_cnt_36mo']+1)\n",
    "\n",
    "churn_df['perc_purch_cc_36mo']=np.where(churn_df['purch_cnt_tt_36mo']==0,0,churn_df['purch_cnt_cc_36mo']/churn_df['purch_cnt_tt_36mo'])\n",
    "churn_df['perc_purch_ck_36mo']=np.where(churn_df['purch_cnt_tt_36mo']==0,0,churn_df['purch_cnt_ck_36mo']/churn_df['purch_cnt_tt_36mo'])\n",
    "churn_df['perc_purch_et_36mo']=np.where(churn_df['purch_cnt_tt_36mo']==0,0,churn_df['purch_cnt_et_36mo']/churn_df['purch_cnt_tt_36mo'])\n",
    "\n",
    "churn_df = churn_df.drop(['order_cnt_36mo','purch_amt_36mo','purch_amt_life','purch_avg_36mo','purch_cnt_life',\n",
    "                          'purch_cnt_tt_36mo','resp_cnt_36mo',\n",
    "                          'purch_cnt_cc_36mo','purch_cnt_ck_36mo','purch_cnt_et_36mo'],axis=1)\n",
    "\n",
    "print(\" summary stats on churn data \") \n",
    "print(churn_df.describe(include='all').transpose())"
   ]
  },
  {
   "cell_type": "code",
   "execution_count": 12,
   "id": "20b75274",
   "metadata": {},
   "outputs": [],
   "source": [
    "# Mapping State Column to Different Regions\n",
    "state_to_region = {\n",
    "    'WA': 'West', 'OR': 'West', 'CA': 'West', 'AK': 'West', 'HI': 'West',\n",
    "    'AZ': 'West', 'NV': 'West', 'ID': 'West', 'MT': 'West', 'WY': 'West',\n",
    "    'UT': 'West', 'CO': 'West', 'NM': 'West',\n",
    "    'ND': 'Midwest', 'SD': 'Midwest', 'NE': 'Midwest', 'KS': 'Midwest',\n",
    "    'MN': 'Midwest', 'IA': 'Midwest', 'MO': 'Midwest', 'WI': 'Midwest',\n",
    "    'IL': 'Midwest', 'MI': 'Midwest', 'IN': 'Midwest', 'OH': 'Midwest',\n",
    "    'ME': 'Northeast', 'NH': 'Northeast', 'VT': 'Northeast', 'MA': 'Northeast',\n",
    "    'RI': 'Northeast', 'CT': 'Northeast', 'NY': 'Northeast', 'PA': 'Northeast',\n",
    "    'NJ': 'Northeast', 'DE': 'Northeast', 'MD': 'Northeast',\n",
    "    'WV': 'South', 'VA': 'South', 'KY': 'South', 'TN': 'South', 'NC': 'South',\n",
    "    'SC': 'South', 'GA': 'South', 'FL': 'South', 'AL': 'South', 'MS': 'South',\n",
    "    'AR': 'South', 'LA': 'South', 'TX': 'South', 'OK': 'South',\n",
    "}\n",
    "\n",
    "# Assume 'combined_all' is your DataFrame and 'ST' is the column with state abbreviations\n",
    "churn_df['Region'] = churn_df['ST'].map(state_to_region).fillna('Others')"
   ]
  },
  {
   "cell_type": "code",
   "execution_count": 13,
   "id": "06156094",
   "metadata": {},
   "outputs": [
    {
     "data": {
      "text/plain": [
       "South        103754\n",
       "West          50686\n",
       "Midwest       46657\n",
       "Northeast     37674\n",
       "Others         1597\n",
       "Name: Region, dtype: int64"
      ]
     },
     "execution_count": 13,
     "metadata": {},
     "output_type": "execute_result"
    }
   ],
   "source": [
    "churn_df['Region'].value_counts()"
   ]
  },
  {
   "cell_type": "markdown",
   "id": "28a63411",
   "metadata": {},
   "source": [
    "## Dropping Duplicates in All Dataframes"
   ]
  },
  {
   "cell_type": "code",
   "execution_count": 14,
   "id": "eac621bd",
   "metadata": {},
   "outputs": [
    {
     "data": {
      "text/plain": [
       "(239356, 32)"
      ]
     },
     "execution_count": 14,
     "metadata": {},
     "output_type": "execute_result"
    }
   ],
   "source": [
    "churn_df.drop_duplicates(subset=['acct_ID'], keep='first', inplace=True)\n",
    "churn_df.shape"
   ]
  },
  {
   "cell_type": "code",
   "execution_count": 15,
   "id": "96cb67c2",
   "metadata": {},
   "outputs": [
    {
     "data": {
      "text/plain": [
       "(239356, 5)"
      ]
     },
     "execution_count": 15,
     "metadata": {},
     "output_type": "execute_result"
    }
   ],
   "source": [
    "margin_df.drop_duplicates(subset=['acct_ID'], keep='first', inplace=True)\n",
    "margin_df.shape"
   ]
  },
  {
   "cell_type": "code",
   "execution_count": 16,
   "id": "7f9f1857",
   "metadata": {},
   "outputs": [
    {
     "data": {
      "text/plain": [
       "(239356, 11)"
      ]
     },
     "execution_count": 16,
     "metadata": {},
     "output_type": "execute_result"
    }
   ],
   "source": [
    "demo_df.drop_duplicates(subset=['acct_ID'], keep='first', inplace=True)\n",
    "demo_df.shape"
   ]
  },
  {
   "cell_type": "code",
   "execution_count": 52,
   "id": "267f95c1",
   "metadata": {},
   "outputs": [],
   "source": [
    "## Merge churn data and margin data\n",
    "combined_all = pd.merge(margin_df, churn_df, how ='inner', on='acct_ID' )\n",
    "combined_all = pd.merge(combined_all, demo_df, how ='inner', on='acct_ID' )"
   ]
  },
  {
   "cell_type": "code",
   "execution_count": 53,
   "id": "55064a86",
   "metadata": {},
   "outputs": [
    {
     "name": "stdout",
     "output_type": "stream",
     "text": [
      "combined df shape: (239356, 46)\n"
     ]
    }
   ],
   "source": [
    "print(\"combined df shape:\", combined_all.shape)"
   ]
  },
  {
   "cell_type": "code",
   "execution_count": 54,
   "id": "2a33c4ea",
   "metadata": {},
   "outputs": [
    {
     "data": {
      "text/plain": [
       "Index(['acct_ID', 'margin_Y_neg_1', 'margin_Y_neg_2', 'margin_Y_neg_3',\n",
       "       'margin_Y_pos_1', 'ST', 'Zip', 'DMA', 'Area_Cd', 'emailable',\n",
       "       'solicit_ph_ind', 'solicit_email_ind', 'fixd_incm_flg',\n",
       "       'scheduled_purchase_flg', 'months_since_last_trans',\n",
       "       'months_since_first_trans', 'purch_avg_interval', 'mail_cnt_36mo',\n",
       "       'call_in_mo_36mo', 'call_out_mo_36mo', 'tier', 'tier_prev',\n",
       "       'activation_date', 'event_date', 'churn_year_plus1_ind',\n",
       "       'log_order_cnt_36mo', 'log_purch_amt_36mo', 'log_purch_amt_life',\n",
       "       'log_purch_avg_36mo', 'log_purch_cnt_life', 'log_purch_cnt_tt_36mo',\n",
       "       'log_resp_cnt_36mo', 'perc_purch_cc_36mo', 'perc_purch_ck_36mo',\n",
       "       'perc_purch_et_36mo', 'Region', 'demog_assets', 'demog_LOR',\n",
       "       'demog_ownrent', 'demog_age', 'demog_span', 'demog_inc_fine',\n",
       "       'demog_inc_crs', 'demog_generations', 'demog_homevalue',\n",
       "       'demog_adults'],\n",
       "      dtype='object')"
      ]
     },
     "execution_count": 54,
     "metadata": {},
     "output_type": "execute_result"
    }
   ],
   "source": [
    "combined_all.columns"
   ]
  },
  {
   "cell_type": "code",
   "execution_count": 55,
   "id": "fed57d19",
   "metadata": {},
   "outputs": [],
   "source": [
    "# Creating Dummy Variables and Keeping Original Cols\n",
    "for column in ['Region', 'tier', 'tier_prev']:\n",
    "    dummies = pd.get_dummies(combined_all[column],prefix=column)\n",
    "    combined_all[dummies.columns] = dummies"
   ]
  },
  {
   "cell_type": "code",
   "execution_count": 56,
   "id": "a772879f",
   "metadata": {},
   "outputs": [
    {
     "data": {
      "image/png": "[encoded data removed]",
      "text/plain": [
       "<Figure size 1080x1080 with 1 Axes>"
      ]
     },
     "metadata": {
      "needs_background": "light"
     },
     "output_type": "display_data"
    }
   ],
   "source": [
    "# Boxplot to investigate the distribution of target variable by a categorical variable\n",
    "\n",
    "axes = combined_all.boxplot(column='margin_Y_pos_1', by='tier',figsize=(15,15),\n",
    "                   whis=[5,95])\n",
    "# given the extreme values/range for future margin, limiting the range of the y-axis:\n",
    "axes.set(ylim=(-2000, 10000))\n",
    "    \n",
    "plt.show()"
   ]
  },
  {
   "cell_type": "code",
   "execution_count": 57,
   "id": "711f3c86",
   "metadata": {},
   "outputs": [
    {
     "data": {
      "image/png": "[encoded data removed]",
      "text/plain": [
       "<Figure size 720x288 with 2 Axes>"
      ]
     },
     "metadata": {
      "needs_background": "light"
     },
     "output_type": "display_data"
    }
   ],
   "source": [
    "# Visualizing how the distribution of last year of margins look like\n",
    "temp_df = combined_all.query('-1000<margin_Y_neg_1<3000')\n",
    "\n",
    "# Create a figure and a 1x2 grid of subplots\n",
    "fig, axs = plt.subplots(1, 2, figsize=(10, 4))\n",
    "\n",
    "# Plotting on the first subplot\n",
    "axs[0].hist(combined_all['margin_Y_neg_1'], bins=50, color='skyblue', edgecolor='black')\n",
    "axs[0].set_title(\"Distribution of Prior Year Margin Before setting limits\")\n",
    "\n",
    "# Plotting on the second subplot\n",
    "axs[1].hist(temp_df['margin_Y_neg_1'], bins=50, color='skyblue', edgecolor='black')\n",
    "axs[1].set_title(\"Distribution of Prior Year Margin After setting limits\")\n",
    "\n",
    "# Adjust layout to make room for the titles and labels\n",
    "plt.tight_layout()\n",
    "\n",
    "# Show the plot\n",
    "plt.show()"
   ]
  },
  {
   "cell_type": "code",
   "execution_count": 58,
   "id": "e4f93620",
   "metadata": {},
   "outputs": [],
   "source": [
    "# Taking log of margin variables to make it tighter as there are too many outliers \n",
    "\n",
    "combined_all['margin_3yr_avg']=(combined_all['margin_Y_neg_1']+combined_all['margin_Y_neg_2']+combined_all['margin_Y_neg_3'])/3\n",
    "combined_all['log_margin_Y_neg_1']=np.log10(combined_all['margin_Y_neg_1']+25000)\n",
    "combined_all['log_margin_Y_neg_2']=np.log10(combined_all['margin_Y_neg_2']+25000)\n",
    "combined_all['log_margin_Y_neg_3']=np.log10(combined_all['margin_Y_neg_3']+25000)\n",
    "combined_all['log_margin_3yr_avg']=np.log10(combined_all['margin_3yr_avg']+25000)\n",
    "combined_all['log_margin_Y_pos_1']=np.log10(combined_all['margin_Y_pos_1']+25000)"
   ]
  },
  {
   "cell_type": "code",
   "execution_count": 59,
   "id": "7897928b",
   "metadata": {},
   "outputs": [
    {
     "data": {
      "image/png": "[encoded data removed]",
      "text/plain": [
       "<Figure size 720x288 with 2 Axes>"
      ]
     },
     "metadata": {
      "needs_background": "light"
     },
     "output_type": "display_data"
    }
   ],
   "source": [
    "# Histogram of log variables for past 1 year and future year after taking log\n",
    "# Create a figure and a 1x2 grid of subplots\n",
    "fig, axs = plt.subplots(1, 2, figsize=(10, 4))\n",
    "\n",
    "# Plotting on the first subplot\n",
    "axs[0].hist(combined_all['log_margin_Y_neg_1'], bins=10, color='skyblue', edgecolor='black')\n",
    "axs[0].set_title(\"Distribution of Prior Year Margin - Log Values\")\n",
    "\n",
    "# Plotting on the second subplot\n",
    "axs[1].hist(combined_all['log_margin_Y_pos_1'], bins=10, color='skyblue', edgecolor='black')\n",
    "axs[1].set_title(\"Distribution of Next Year Margin - Log Values\")\n",
    "\n",
    "# Adjust layout to make room for the titles and labels\n",
    "plt.tight_layout()\n",
    "\n",
    "# Show the plot\n",
    "plt.show()"
   ]
  },
  {
   "cell_type": "markdown",
   "id": "8b30a7b9",
   "metadata": {},
   "source": [
    "## Data Check Before Splitting"
   ]
  },
  {
   "cell_type": "code",
   "execution_count": 60,
   "id": "c46038e9",
   "metadata": {},
   "outputs": [],
   "source": [
    "# Changing any boolean columns into int datatypes to prevent errors\n",
    "boolean_columns = list(combined_all.dtypes[combined_all.dtypes == 'bool'].index)\n",
    "combined_all[boolean_columns] = combined_all[boolean_columns].astype('int')"
   ]
  },
  {
   "cell_type": "code",
   "execution_count": 61,
   "id": "d1bf70da",
   "metadata": {},
   "outputs": [
    {
     "name": "stdout",
     "output_type": "stream",
     "text": [
      "data types in training dataset are: float64    21\n",
      "object     17\n",
      "uint8      16\n",
      "int64      14\n",
      "dtype: int64\n"
     ]
    }
   ],
   "source": [
    "print(\"data types in training dataset are:\", combined_all.dtypes.value_counts())"
   ]
  },
  {
   "cell_type": "code",
   "execution_count": 62,
   "id": "b91672ca",
   "metadata": {},
   "outputs": [
    {
     "data": {
      "text/plain": [
       "(239356, 59)"
      ]
     },
     "execution_count": 62,
     "metadata": {},
     "output_type": "execute_result"
    }
   ],
   "source": [
    "# Dropping Unnecessary Variables\n",
    "combined_all = combined_all.drop(['Zip','DMA','Area_Cd','activation_date','event_date',\n",
    "                            'ST','tier','tier_prev', 'Region'\n",
    "                              ],axis=1)\n",
    "\n",
    "combined_all.shape"
   ]
  },
  {
   "cell_type": "code",
   "execution_count": 63,
   "id": "261f8a3a",
   "metadata": {},
   "outputs": [
    {
     "name": "stdout",
     "output_type": "stream",
     "text": [
      "Index(['demog_assets', 'demog_LOR', 'demog_ownrent', 'demog_age',\n",
      "       'demog_inc_fine', 'demog_inc_crs', 'demog_homevalue'],\n",
      "      dtype='object')\n",
      "(239356, 127)\n"
     ]
    }
   ],
   "source": [
    "categorical_vars = combined_all.select_dtypes(include=['object']).columns.drop(['acct_ID'])\n",
    "print(categorical_vars)\n",
    "combined_all = pd.get_dummies(combined_all, columns=categorical_vars, drop_first=True)\n",
    "print(combined_all.shape)"
   ]
  },
  {
   "cell_type": "code",
   "execution_count": 64,
   "id": "b132f35d",
   "metadata": {},
   "outputs": [
    {
     "data": {
      "text/plain": [
       "(176267, 127)"
      ]
     },
     "execution_count": 64,
     "metadata": {},
     "output_type": "execute_result"
    }
   ],
   "source": [
    "# Keeping only people that do not churn\n",
    "x_churners_df = combined_all.query('churn_year_plus1_ind==1')\n",
    "\"\"\" then we strip our the churners from the data to be used for training and testing \"\"\"\n",
    "x_train_df = combined_all.query('churn_year_plus1_ind==0')\n",
    "\n",
    "x_train_df.shape"
   ]
  },
  {
   "cell_type": "markdown",
   "id": "6220bb7b",
   "metadata": {},
   "source": [
    "## Train Test Split"
   ]
  },
  {
   "cell_type": "code",
   "execution_count": 65,
   "id": "5db0c858",
   "metadata": {},
   "outputs": [
    {
     "data": {
      "text/plain": [
       "(123386, 123)"
      ]
     },
     "execution_count": 65,
     "metadata": {},
     "output_type": "execute_result"
    }
   ],
   "source": [
    "x_train_df, x_test_df = train_test_split(x_train_df, test_size = 0.30, random_state=42)\n",
    "\n",
    "# will need the acct_IDs to rejoin data later, so pulling out now before dropping from actual model training data\n",
    "\n",
    "train_acct_IDs_df = x_train_df[['acct_ID']]\n",
    "test_acct_IDs_df  = x_test_df[['acct_ID']]\n",
    "churners_acct_IDs_df = x_churners_df[['acct_ID']]\n",
    "\n",
    "# the target (or dependent) variable is stored in it's own dataframe\n",
    "\n",
    "y_train_df = x_train_df[['log_margin_Y_pos_1']]\n",
    "y_test_df  = x_test_df[['log_margin_Y_pos_1']]\n",
    "y_churners_df  = x_churners_df[['log_margin_Y_pos_1']]\n",
    "\n",
    "# We want to drop acct_ID and the target variable from the dataframe of independent variables\n",
    "# PLUS we want to drop the target (future timeframe) variables for churn modeling\n",
    "\n",
    "x_train_df = x_train_df.drop(['acct_ID','churn_year_plus1_ind', 'log_margin_Y_pos_1', 'margin_Y_pos_1'\n",
    "                             ],axis=1)\n",
    "\n",
    "x_test_df = x_test_df.drop(['acct_ID','churn_year_plus1_ind', 'log_margin_Y_pos_1', 'margin_Y_pos_1'\n",
    "                             ],axis=1)\n",
    "\n",
    "x_churners_df = x_churners_df.drop(['acct_ID','churn_year_plus1_ind', 'log_margin_Y_pos_1', 'margin_Y_pos_1'\n",
    "                                   ],axis=1)\n",
    "x_train_df.shape"
   ]
  },
  {
   "cell_type": "markdown",
   "id": "871e6625",
   "metadata": {},
   "source": [
    "## Checking if dataset has only integer type cols"
   ]
  },
  {
   "cell_type": "code",
   "execution_count": 66,
   "id": "0bfb9259",
   "metadata": {},
   "outputs": [],
   "source": [
    "# # Include only integer or float columns in x_train_df for now -- Recheck after New Churn Data Available from Roe\n",
    "# x_train_df = x_train_df.select_dtypes(include=['int64', 'float64'])\n",
    "# x_test_df = x_test_df.select_dtypes(include=['int64', 'float64'])"
   ]
  },
  {
   "cell_type": "code",
   "execution_count": 67,
   "id": "a758c6a8",
   "metadata": {},
   "outputs": [
    {
     "data": {
      "text/plain": [
       "array([dtype('float64'), dtype('int64'), dtype('uint8')], dtype=object)"
      ]
     },
     "execution_count": 67,
     "metadata": {},
     "output_type": "execute_result"
    }
   ],
   "source": [
    "x_train_df.dtypes.unique()"
   ]
  },
  {
   "cell_type": "code",
   "execution_count": 68,
   "id": "b3474ae5",
   "metadata": {},
   "outputs": [
    {
     "data": {
      "text/plain": [
       "(123386, 20)"
      ]
     },
     "execution_count": 68,
     "metadata": {},
     "output_type": "execute_result"
    }
   ],
   "source": [
    "\"\"\" using the ravel simply to avoid warning in log \"\"\"\n",
    "y_train_array=np.ravel(y_train_df)\n",
    "y_test_array=np.ravel(y_test_df)\n",
    "\n",
    "# this line can be used to suppress any warnings caused by missing values:\n",
    "np.seterr(divide='ignore', invalid='ignore')\n",
    "\n",
    "model1_selects = SelectKBest(f_regression, k=20).fit(x_train_df, y_train_array)\n",
    "\n",
    "x_train_selected_df = x_train_df[x_train_df.columns[model1_selects.get_support()]]\n",
    "x_test_selected_df  = x_test_df[x_test_df.columns[model1_selects.get_support()]]\n",
    "\"\"\" note: we are not reducing the columns in the held-out churners dataframe, because this is not our final model \"\"\"\n",
    "\n",
    "x_train_selected_df.shape"
   ]
  },
  {
   "cell_type": "code",
   "execution_count": 69,
   "id": "b681c5a0",
   "metadata": {},
   "outputs": [],
   "source": [
    "# Adding constant before VIF\n",
    "x_train_selected_df = sm.add_constant(x_train_selected_df, has_constant='add')\n",
    "x_test_selected_df  = sm.add_constant(x_test_selected_df, has_constant='add')"
   ]
  },
  {
   "cell_type": "code",
   "execution_count": 77,
   "id": "ff36d7f5",
   "metadata": {},
   "outputs": [
    {
     "name": "stdout",
     "output_type": "stream",
     "text": [
      "dropping 'log_margin_Y_neg_1' at index: 13\n",
      "Remaining variables:\n",
      "Index(['margin_Y_neg_2', 'margin_Y_neg_3', 'mail_cnt_36mo', 'call_out_mo_36mo',\n",
      "       'log_purch_avg_36mo', 'log_purch_cnt_life', 'tier_1-Bronze',\n",
      "       'tier_5-Diamond', 'tier_prev_3-Gold', 'tier_prev_4-Platinum',\n",
      "       'tier_prev_5-Diamond', 'tier_prev_xxx', 'margin_3yr_avg'],\n",
      "      dtype='object')\n"
     ]
    },
    {
     "data": {
      "text/plain": [
       "(123386, 13)"
      ]
     },
     "execution_count": 77,
     "metadata": {},
     "output_type": "execute_result"
    }
   ],
   "source": [
    "def calculate_vif_(X, thresh=10):\n",
    "    cols = X.columns\n",
    "    variables = np.arange(X.shape[1])\n",
    "    dropped=True\n",
    "    while dropped:\n",
    "        dropped=False\n",
    "        c = X[cols[variables]].values\n",
    "        vif = [variance_inflation_factor(c, ix) for ix in np.arange(c.shape[1])]\n",
    "        maxloc = vif.index(max(vif))\n",
    "    if max(vif) > thresh:\n",
    "        print('dropping \\'' + X[cols[variables]].columns[maxloc] + '\\' at index: ' + str(maxloc))\n",
    "        variables = np.delete(variables, maxloc)\n",
    "        dropped=True\n",
    "        \n",
    "        print('Remaining variables:')\n",
    "        print(X.columns[variables])\n",
    "    return X.iloc[:, variables]\n",
    "\n",
    "# to drop fewer variables, and allow more multicollinearity, increase the numeric threshold here.\n",
    "#    10 is a good default.  try 15 or 20 to omit fewer variables\n",
    "x_train_selected_df=calculate_vif_(x_train_selected_df, 30.0)\n",
    "        \n",
    "x_train_selected_df.shape"
   ]
  },
  {
   "cell_type": "code",
   "execution_count": 78,
   "id": "32752578",
   "metadata": {},
   "outputs": [
    {
     "name": "stdout",
     "output_type": "stream",
     "text": [
      "Remaining variables in test set:\n",
      "Index(['margin_Y_neg_2', 'margin_Y_neg_3', 'mail_cnt_36mo', 'call_out_mo_36mo',\n",
      "       'log_purch_avg_36mo', 'log_purch_cnt_life', 'tier_1-Bronze',\n",
      "       'tier_5-Diamond', 'tier_prev_3-Gold', 'tier_prev_4-Platinum',\n",
      "       'tier_prev_5-Diamond', 'tier_prev_xxx', 'margin_3yr_avg'],\n",
      "      dtype='object')\n"
     ]
    },
    {
     "data": {
      "text/plain": [
       "(52881, 13)"
      ]
     },
     "execution_count": 78,
     "metadata": {},
     "output_type": "execute_result"
    }
   ],
   "source": [
    "\"\"\" reducing the test set to have the same columns as the training set \"\"\"\n",
    "\"\"\" note: we are not reducing the columns in the held-out churners dataframe, because this is not our final model \"\"\"\n",
    "\n",
    "x_test_selected_df=x_test_selected_df[x_train_selected_df.columns]\n",
    "\n",
    "print('Remaining variables in test set:')\n",
    "print(x_test_selected_df.columns)\n",
    "        \n",
    "x_test_selected_df.shape"
   ]
  },
  {
   "cell_type": "markdown",
   "id": "e2d49809",
   "metadata": {},
   "source": [
    "## Simple Regression To Predict Margins"
   ]
  },
  {
   "cell_type": "code",
   "execution_count": 87,
   "id": "f1716b12",
   "metadata": {
    "scrolled": true
   },
   "outputs": [
    {
     "name": "stdout",
     "output_type": "stream",
     "text": [
      " \n",
      "OLS model with selected variables\n",
      " \n",
      "                            OLS Regression Results                            \n",
      "==============================================================================\n",
      "Dep. Variable:     log_margin_Y_pos_1   R-squared:                       0.593\n",
      "Model:                            OLS   Adj. R-squared:                  0.593\n",
      "Method:                 Least Squares   F-statistic:                 1.385e+04\n",
      "Date:                Tue, 06 Feb 2024   Prob (F-statistic):               0.00\n",
      "Time:                        22:33:36   Log-Likelihood:             3.7348e+05\n",
      "No. Observations:              123386   AIC:                        -7.469e+05\n",
      "Df Residuals:                  123372   BIC:                        -7.468e+05\n",
      "Df Model:                          13                                         \n",
      "Covariance Type:            nonrobust                                         \n",
      "========================================================================================\n",
      "                           coef    std err          t      P>|t|      [0.025      0.975]\n",
      "----------------------------------------------------------------------------------------\n",
      "const                    2.1905      0.000   1.65e+04      0.000       2.190       2.191\n",
      "const                    2.1905      0.000   1.65e+04      0.000       2.190       2.191\n",
      "margin_Y_neg_2        -2.92e-06   5.19e-08    -56.279      0.000   -3.02e-06   -2.82e-06\n",
      "margin_Y_neg_3       -3.471e-06   4.56e-08    -76.136      0.000   -3.56e-06   -3.38e-06\n",
      "mail_cnt_36mo            0.0002   3.51e-06     52.799      0.000       0.000       0.000\n",
      "call_out_mo_36mo      5.718e-05   1.59e-05      3.593      0.000     2.6e-05    8.84e-05\n",
      "log_purch_avg_36mo       0.0148      0.000    107.671      0.000       0.015       0.015\n",
      "log_purch_cnt_life      -0.0035   9.19e-05    -37.993      0.000      -0.004      -0.003\n",
      "tier_1-Bronze            0.0010      0.000      8.401      0.000       0.001       0.001\n",
      "tier_5-Diamond           0.0272      0.000     87.875      0.000       0.027       0.028\n",
      "tier_prev_3-Gold         0.0102      0.000     54.668      0.000       0.010       0.011\n",
      "tier_prev_4-Platinum     0.0160      0.000     44.930      0.000       0.015       0.017\n",
      "tier_prev_5-Diamond      0.0428      0.000     88.942      0.000       0.042       0.044\n",
      "tier_prev_xxx           -0.0013      0.000    -12.136      0.000      -0.002      -0.001\n",
      "margin_3yr_avg        1.129e-05   9.96e-08    113.376      0.000    1.11e-05    1.15e-05\n",
      "==============================================================================\n",
      "Omnibus:                   215505.558   Durbin-Watson:                   1.990\n",
      "Prob(Omnibus):                  0.000   Jarque-Bera (JB):       1365221542.546\n",
      "Skew:                          11.665   Prob(JB):                         0.00\n",
      "Kurtosis:                     517.788   Cond. No.                     5.47e+17\n",
      "==============================================================================\n",
      "\n",
      "Notes:\n",
      "[1] Standard Errors assume that the covariance matrix of the errors is correctly specified.\n",
      "[2] The smallest eigenvalue is 5.78e-24. This might indicate that there are\n",
      "strong multicollinearity problems or that the design matrix is singular.\n",
      " \n",
      "MSE train: 0.00013753021282297226\n",
      "MSE test: 0.00013900854874449354\n",
      " \n"
     ]
    },
    {
     "data": {
      "image/png": "[encoded data removed]",
      "text/plain": [
       "<Figure size 1080x1080 with 1 Axes>"
      ]
     },
     "metadata": {},
     "output_type": "display_data"
    }
   ],
   "source": [
    "# Adding constant again as it was removed from the dataset previously while calculating VIF\n",
    "\n",
    "x_train_selected_df = sm.add_constant(x_train_selected_df, has_constant='add')\n",
    "x_test_selected_df  = sm.add_constant(x_test_selected_df, has_constant='add')\n",
    "\n",
    "\"\"\" warning:  the OLS here is case-sensitive \"\"\"\n",
    "model = sm.OLS(y_train_df, x_train_selected_df)\n",
    "result = model.fit()\n",
    "print(\" \") \n",
    "print(\"OLS model with selected variables\")\n",
    "print(\" \") \n",
    "print(result.summary())\n",
    "\n",
    "\"\"\" predicted values using the model \"\"\"\n",
    "\"\"\" using numpy copy to store result as an array \"\"\"\n",
    "\"\"\" manually adding a column header \"\"\"\n",
    "predict_train = pd.DataFrame(np.copy(result.predict(x_train_selected_df)), columns=[\"P_log_margin_Y_pos_1\"])\n",
    "predict_test = pd.DataFrame(np.copy(result.predict(x_test_selected_df)), columns=[\"P_log_margin_Y_pos_1\"])\n",
    "\n",
    "print(\" \") \n",
    "print(\"MSE train:\", mean_squared_error(y_train_array, predict_train))\n",
    "print(\"MSE test:\", mean_squared_error(y_test_array, predict_test))\n",
    "\n",
    "plt.figure(figsize=(15,15))\n",
    "plt.scatter(y_train_array, predict_train)\n",
    "plt.xlabel(\"log margin\")\n",
    "plt.ylabel(\"predicted log margin\")\n",
    "plt.title(\"actual v predicted\")\n",
    "plt.xticks([])\n",
    "plt.yticks([])\n",
    "print(\" \") \n",
    "plt.show()"
   ]
  },
  {
   "cell_type": "code",
   "execution_count": 151,
   "id": "966f4b5f",
   "metadata": {},
   "outputs": [
    {
     "name": "stdout",
     "output_type": "stream",
     "text": [
      "Test MAPE (normal scale): 86895580881.02206\n"
     ]
    }
   ],
   "source": [
    "# Calculate the absolute percentage errors \n",
    "y_conv = 10**y_test_array - 25000\n",
    "predict_test['P_margin_Y_pos_1'] = 10**predict_test['P_log_margin_Y_pos_1'] - 25000\n",
    "\n",
    "percentage_errors_test = 100 * np.abs((y_conv - predict_test['P_margin_Y_pos_1']) / y_conv)\n",
    "\n",
    "# Calculate MAPE\n",
    "mape_test = percentage_errors_test.mean()\n",
    "\n",
    "# Print the log-scale MAPE\n",
    "print(\"Test MAPE (normal scale):\", mape_test)"
   ]
  },
  {
   "cell_type": "code",
   "execution_count": 152,
   "id": "f04d6007",
   "metadata": {},
   "outputs": [
    {
     "data": {
      "text/plain": [
       "count     52881.000000\n",
       "mean        474.533101\n",
       "std        2237.356602\n",
       "min       -1507.404346\n",
       "25%         104.848682\n",
       "50%         269.870412\n",
       "75%         563.069435\n",
       "max      405233.129502\n",
       "Name: P_margin_Y_pos_1, dtype: float64"
      ]
     },
     "execution_count": 152,
     "metadata": {},
     "output_type": "execute_result"
    }
   ],
   "source": [
    "predict_test['P_margin_Y_pos_1'].describe()"
   ]
  },
  {
   "cell_type": "code",
   "execution_count": 157,
   "id": "74b76e68",
   "metadata": {},
   "outputs": [
    {
     "name": "stdout",
     "output_type": "stream",
     "text": [
      "Test MAPE (normal scale): 0.10436242717914515\n"
     ]
    }
   ],
   "source": [
    "# Calculate the absolute percentage errors \n",
    "percentage_errors_test = 100 * np.abs((y_test_array - predict_test['P_log_margin_Y_pos_1']) / y_test_array)\n",
    "\n",
    "# Calculate MAPE\n",
    "mape_test = percentage_errors_test.mean()\n",
    "\n",
    "# Print the log-scale MAPE\n",
    "print(\"Test MAPE (normal scale):\", mape_test)"
   ]
  },
  {
   "cell_type": "code",
   "execution_count": 266,
   "id": "6c690454",
   "metadata": {},
   "outputs": [
    {
     "name": "stdout",
     "output_type": "stream",
     "text": [
      "Best parameters found:  {'n_estimators': 100, 'min_samples_split': 10, 'min_samples_leaf': 2, 'max_samples': 0.7, 'max_features': 'sqrt', 'max_depth': 20}\n",
      "Best cross-validated score:  0.6835907450474822\n"
     ]
    }
   ],
   "source": [
    "# Parameters distribution for Random Search\n",
    "# param_distributions = {\n",
    "#                'max_depth': [10, 20, 30, 40, None],\n",
    "#                'max_features': ['auto', 'sqrt'],\n",
    "#                'min_samples_leaf': [1, 2, 4, 6, 8],\n",
    "#                'min_samples_split': [2, 5, 10, 15],\n",
    "#                'n_estimators': [100, 50, 80, 150, 120],\n",
    "#                'max_samples': [0.3, 0.5, 0.7]    \n",
    "# }\n",
    "\n",
    "# # Initialize the Random Forest Regressor\n",
    "# rf = RandomForestRegressor(random_state=42)\n",
    "\n",
    "# # Randomized Search with Cross-Validation\n",
    "# random_search = RandomizedSearchCV(\n",
    "#     estimator=rf,\n",
    "#     param_distributions=param_distributions,\n",
    "#     n_iter=5,                            \n",
    "#     cv=3,                                 \n",
    "#     random_state=42,\n",
    "#     n_jobs=-1                             \n",
    "# )\n",
    "\n",
    "# # Fit Model\n",
    "# random_search.fit(x_train_df, y_train_array)\n",
    "\n",
    "\n",
    "# # Print the best parameters and the corresponding score\n",
    "# print(\"Best parameters found: \", random_search.best_params_)\n",
    "# print(\"Best cross-validated score: \", random_search.best_score_)"
   ]
  },
  {
   "cell_type": "code",
   "execution_count": 85,
   "id": "9546210d",
   "metadata": {},
   "outputs": [
    {
     "data": {
      "text/plain": [
       "RandomForestRegressor(max_depth=40, max_features='sqrt', max_samples=0.5,\n",
       "                      min_samples_leaf=2, min_samples_split=6, n_estimators=120,\n",
       "                      random_state=42)"
      ]
     },
     "execution_count": 85,
     "metadata": {},
     "output_type": "execute_result"
    }
   ],
   "source": [
    "# Selecting best parameters\n",
    "params_test = {'n_estimators': 120, \n",
    "               'min_samples_split': 6, \n",
    "               'min_samples_leaf': 2,\n",
    "               'max_features': 'sqrt',\n",
    "               'max_samples': 0.5, \n",
    "               'max_depth': 40}\n",
    "final_model = RandomForestRegressor(**params_test, random_state=42)\n",
    "\n",
    "# Training Final Model\n",
    "final_model.fit(x_train_df, y_train_array)"
   ]
  },
  {
   "cell_type": "code",
   "execution_count": 86,
   "id": "d6863912",
   "metadata": {},
   "outputs": [
    {
     "name": "stdout",
     "output_type": "stream",
     "text": [
      "Train MSE: 5.8655084076588e-05\n",
      "Test MSE: 0.00010133520769345285\n",
      "Train R^2: 0.8266037789922975\n",
      "Test R^2: 0.7212845313830913\n"
     ]
    }
   ],
   "source": [
    "# Predictions\n",
    "y_train_pred = final_model.predict(x_train_df)\n",
    "y_test_pred = final_model.predict(x_test_df)\n",
    "\n",
    "# Step 5: Evaluate the final model\n",
    "train_mse = mean_squared_error(y_train_array, y_train_pred)\n",
    "test_mse = mean_squared_error(y_test_array, y_test_pred)\n",
    "train_r2 = r2_score(y_train_array, y_train_pred)\n",
    "test_r2 = r2_score(y_test_array, y_test_pred)\n",
    "\n",
    "print(\"Train MSE:\", train_mse)\n",
    "print(\"Test MSE:\", test_mse)\n",
    "print(\"Train R^2:\", train_r2)\n",
    "print(\"Test R^2:\", test_r2)"
   ]
  },
  {
   "cell_type": "code",
   "execution_count": 106,
   "id": "f9a73c2d",
   "metadata": {},
   "outputs": [
    {
     "data": {
      "text/plain": [
       "array([4.3992061 , 4.39859122, 4.40402367, 4.40397185, 4.39940189,\n",
       "       4.39915418, 4.41498015, 4.39884805, 4.3991835 , 4.39926799])"
      ]
     },
     "execution_count": 106,
     "metadata": {},
     "output_type": "execute_result"
    }
   ],
   "source": [
    "# Churnerns pred\n",
    "y_churners_pred = final_model.predict(x_churners_df)\n",
    "y_churners_pred[0:10]"
   ]
  },
  {
   "cell_type": "code",
   "execution_count": 107,
   "id": "689d3a31",
   "metadata": {},
   "outputs": [
    {
     "data": {
      "text/html": [
       "<div>\n",
       "<style scoped>\n",
       "    .dataframe tbody tr th:only-of-type {\n",
       "        vertical-align: middle;\n",
       "    }\n",
       "\n",
       "    .dataframe tbody tr th {\n",
       "        vertical-align: top;\n",
       "    }\n",
       "\n",
       "    .dataframe thead th {\n",
       "        text-align: right;\n",
       "    }\n",
       "</style>\n",
       "<table border=\"1\" class=\"dataframe\">\n",
       "  <thead>\n",
       "    <tr style=\"text-align: right;\">\n",
       "      <th></th>\n",
       "      <th>log_margin_Y_pos_1</th>\n",
       "    </tr>\n",
       "  </thead>\n",
       "  <tbody>\n",
       "    <tr>\n",
       "      <th>0</th>\n",
       "      <td>4.397792</td>\n",
       "    </tr>\n",
       "    <tr>\n",
       "      <th>1</th>\n",
       "      <td>4.397908</td>\n",
       "    </tr>\n",
       "    <tr>\n",
       "      <th>3</th>\n",
       "      <td>4.397894</td>\n",
       "    </tr>\n",
       "    <tr>\n",
       "      <th>5</th>\n",
       "      <td>4.397861</td>\n",
       "    </tr>\n",
       "    <tr>\n",
       "      <th>6</th>\n",
       "      <td>4.397845</td>\n",
       "    </tr>\n",
       "    <tr>\n",
       "      <th>9</th>\n",
       "      <td>4.397930</td>\n",
       "    </tr>\n",
       "    <tr>\n",
       "      <th>18</th>\n",
       "      <td>4.397856</td>\n",
       "    </tr>\n",
       "    <tr>\n",
       "      <th>19</th>\n",
       "      <td>4.397902</td>\n",
       "    </tr>\n",
       "    <tr>\n",
       "      <th>25</th>\n",
       "      <td>4.397909</td>\n",
       "    </tr>\n",
       "    <tr>\n",
       "      <th>30</th>\n",
       "      <td>4.397822</td>\n",
       "    </tr>\n",
       "  </tbody>\n",
       "</table>\n",
       "</div>"
      ],
      "text/plain": [
       "    log_margin_Y_pos_1\n",
       "0             4.397792\n",
       "1             4.397908\n",
       "3             4.397894\n",
       "5             4.397861\n",
       "6             4.397845\n",
       "9             4.397930\n",
       "18            4.397856\n",
       "19            4.397902\n",
       "25            4.397909\n",
       "30            4.397822"
      ]
     },
     "execution_count": 107,
     "metadata": {},
     "output_type": "execute_result"
    }
   ],
   "source": [
    "# y_churners_pred['rf_preds'] = np.exp(y_churners_pred)"
   ]
  },
  {
   "cell_type": "code",
   "execution_count": 87,
   "id": "52c5cb9d",
   "metadata": {},
   "outputs": [
    {
     "data": {
      "text/plain": [
       "176267"
      ]
     },
     "execution_count": 87,
     "metadata": {},
     "output_type": "execute_result"
    }
   ],
   "source": [
    "len(y_train_pred) + len(y_test_pred)"
   ]
  },
  {
   "cell_type": "code",
   "execution_count": 251,
   "id": "f4875dde",
   "metadata": {},
   "outputs": [
    {
     "name": "stdout",
     "output_type": "stream",
     "text": [
      "(123363, 81)\n",
      "(52870, 81)\n"
     ]
    }
   ],
   "source": [
    "# # Appending predictions of rf to original dfs\n",
    "# x_train_df['rf_preds'] = np.exp(y_train_pred)\n",
    "# x_test_df['rf_preds'] = np.exp(y_test_pred)\n",
    "\n",
    "# print(x_train_df.shape)\n",
    "# print(x_test_df.shape)"
   ]
  },
  {
   "cell_type": "code",
   "execution_count": 88,
   "id": "ad38184f",
   "metadata": {},
   "outputs": [
    {
     "data": {
      "text/html": [
       "<div>\n",
       "<style scoped>\n",
       "    .dataframe tbody tr th:only-of-type {\n",
       "        vertical-align: middle;\n",
       "    }\n",
       "\n",
       "    .dataframe tbody tr th {\n",
       "        vertical-align: top;\n",
       "    }\n",
       "\n",
       "    .dataframe thead th {\n",
       "        text-align: right;\n",
       "    }\n",
       "</style>\n",
       "<table border=\"1\" class=\"dataframe\">\n",
       "  <thead>\n",
       "    <tr style=\"text-align: right;\">\n",
       "      <th></th>\n",
       "      <th>0</th>\n",
       "    </tr>\n",
       "  </thead>\n",
       "  <tbody>\n",
       "    <tr>\n",
       "      <th>count</th>\n",
       "      <td>123386.000000</td>\n",
       "    </tr>\n",
       "    <tr>\n",
       "      <th>mean</th>\n",
       "      <td>81.933801</td>\n",
       "    </tr>\n",
       "    <tr>\n",
       "      <th>std</th>\n",
       "      <td>1.905071</td>\n",
       "    </tr>\n",
       "    <tr>\n",
       "      <th>min</th>\n",
       "      <td>76.114827</td>\n",
       "    </tr>\n",
       "    <tr>\n",
       "      <th>25%</th>\n",
       "      <td>81.434440</td>\n",
       "    </tr>\n",
       "    <tr>\n",
       "      <th>50%</th>\n",
       "      <td>81.588396</td>\n",
       "    </tr>\n",
       "    <tr>\n",
       "      <th>75%</th>\n",
       "      <td>81.912374</td>\n",
       "    </tr>\n",
       "    <tr>\n",
       "      <th>max</th>\n",
       "      <td>278.161894</td>\n",
       "    </tr>\n",
       "  </tbody>\n",
       "</table>\n",
       "</div>"
      ],
      "text/plain": [
       "                   0\n",
       "count  123386.000000\n",
       "mean       81.933801\n",
       "std         1.905071\n",
       "min        76.114827\n",
       "25%        81.434440\n",
       "50%        81.588396\n",
       "75%        81.912374\n",
       "max       278.161894"
      ]
     },
     "execution_count": 88,
     "metadata": {},
     "output_type": "execute_result"
    }
   ],
   "source": [
    "# # Manually inspecting some of the actual target values vs predictions\n",
    "y_test_scaled = np.exp(y_train_array)\n",
    "y_test_scaled = pd.DataFrame(y_test_scaled) \n",
    "y_test_scaled.describe()"
   ]
  },
  {
   "cell_type": "code",
   "execution_count": 89,
   "id": "6ff312a4",
   "metadata": {},
   "outputs": [
    {
     "data": {
      "text/plain": [
       "0    106\n",
       "dtype: int64"
      ]
     },
     "execution_count": 89,
     "metadata": {},
     "output_type": "execute_result"
    }
   ],
   "source": [
    "# Counting number of outliers\n",
    "y_outliers = y_test_scaled[y_test_scaled>100]\n",
    "y_outliers.count()"
   ]
  },
  {
   "cell_type": "code",
   "execution_count": 90,
   "id": "0e054215",
   "metadata": {},
   "outputs": [],
   "source": [
    "# x_train_df['rf_preds'].describe()"
   ]
  },
  {
   "cell_type": "markdown",
   "id": "ffaa83c1",
   "metadata": {},
   "source": [
    "### RF - Feature Importance"
   ]
  },
  {
   "cell_type": "code",
   "execution_count": 97,
   "id": "8148cf6c",
   "metadata": {},
   "outputs": [
    {
     "data": {
      "image/png": "[encoded data removed]",
      "text/plain": [
       "<Figure size 720x432 with 1 Axes>"
      ]
     },
     "metadata": {
      "needs_background": "light"
     },
     "output_type": "display_data"
    }
   ],
   "source": [
    "# Get feature importances\n",
    "importances = final_model.feature_importances_\n",
    "features = pd.DataFrame({\n",
    "    'Feature': x_train_df.columns,\n",
    "    'Importance': importances\n",
    "})\n",
    "\n",
    "features['Relative Importance'] = 100.0 * (features['Importance'] / features['Importance'].max())\n",
    "features_sorted = features.sort_values(by='Relative Importance', ascending=False)\n",
    "\n",
    "# Select the top 10 features\n",
    "top_10_features = features_sorted.head(10)\n",
    "\n",
    "# Plotting\n",
    "plt.figure(figsize=(10, 6))\n",
    "plt.barh(top_10_features['Feature'], top_10_features['Relative Importance'], color='skyblue')\n",
    "plt.xlabel('Relative Importance (%)')\n",
    "plt.ylabel('Feature')\n",
    "plt.title('Top 10 Features from Random Forest Model (Relative Importance)')\n",
    "plt.gca().invert_yaxis()  # Invert y-axis to have the most important feature on top\n",
    "plt.show()"
   ]
  },
  {
   "cell_type": "markdown",
   "id": "662f1616",
   "metadata": {},
   "source": [
    "## LGBM Regressor"
   ]
  },
  {
   "cell_type": "code",
   "execution_count": 98,
   "id": "a2198d6c",
   "metadata": {},
   "outputs": [
    {
     "name": "stdout",
     "output_type": "stream",
     "text": [
      "[LightGBM] [Warning] min_data_in_leaf is set=100, min_child_samples=20 will be ignored. Current value: min_data_in_leaf=100\n",
      "[LightGBM] [Warning] feature_fraction is set=0.8, colsample_bytree=1.0 will be ignored. Current value: feature_fraction=0.8\n",
      "[LightGBM] [Warning] bagging_fraction is set=0.9, subsample=1.0 will be ignored. Current value: bagging_fraction=0.9\n",
      "[LightGBM] [Warning] bagging_freq is set=7, subsample_freq=0 will be ignored. Current value: bagging_freq=7\n",
      "[LightGBM] [Warning] Found whitespace in feature_names, replace with underlines\n",
      "[LightGBM] [Warning] min_data_in_leaf is set=100, min_child_samples=20 will be ignored. Current value: min_data_in_leaf=100\n",
      "[LightGBM] [Warning] feature_fraction is set=0.8, colsample_bytree=1.0 will be ignored. Current value: feature_fraction=0.8\n",
      "[LightGBM] [Warning] bagging_fraction is set=0.9, subsample=1.0 will be ignored. Current value: bagging_fraction=0.9\n",
      "[LightGBM] [Warning] bagging_freq is set=7, subsample_freq=0 will be ignored. Current value: bagging_freq=7\n",
      "[LightGBM] [Info] Auto-choosing row-wise multi-threading, the overhead of testing was 0.017108 seconds.\n",
      "You can set `force_row_wise=true` to remove the overhead.\n",
      "And if memory is not enough, you can set `force_col_wise=true`.\n",
      "[LightGBM] [Info] Total Bins 5228\n",
      "[LightGBM] [Info] Number of data points in the train set: 123386, number of used features: 121\n",
      "[LightGBM] [Info] Start training from score 4.405718\n",
      "[LightGBM] [Warning] No further splits with positive gain, best gain: -inf\n",
      "[LightGBM] [Warning] No further splits with positive gain, best gain: -inf\n",
      "[LightGBM] [Warning] No further splits with positive gain, best gain: -inf\n",
      "[LightGBM] [Warning] No further splits with positive gain, best gain: -inf\n",
      "[LightGBM] [Warning] No further splits with positive gain, best gain: -inf\n",
      "[LightGBM] [Warning] No further splits with positive gain, best gain: -inf\n",
      "[LightGBM] [Warning] No further splits with positive gain, best gain: -inf\n",
      "[LightGBM] [Warning] No further splits with positive gain, best gain: -inf\n",
      "[LightGBM] [Warning] No further splits with positive gain, best gain: -inf\n",
      "[LightGBM] [Warning] No further splits with positive gain, best gain: -inf\n",
      "[LightGBM] [Warning] No further splits with positive gain, best gain: -inf\n",
      "[LightGBM] [Warning] No further splits with positive gain, best gain: -inf\n",
      "[LightGBM] [Warning] No further splits with positive gain, best gain: -inf\n",
      "[LightGBM] [Warning] No further splits with positive gain, best gain: -inf\n",
      "[LightGBM] [Warning] No further splits with positive gain, best gain: -inf\n",
      "[LightGBM] [Warning] No further splits with positive gain, best gain: -inf\n",
      "[LightGBM] [Warning] No further splits with positive gain, best gain: -inf\n",
      "[LightGBM] [Warning] No further splits with positive gain, best gain: -inf\n",
      "[LightGBM] [Warning] No further splits with positive gain, best gain: -inf\n",
      "[LightGBM] [Warning] No further splits with positive gain, best gain: -inf\n",
      "[LightGBM] [Warning] No further splits with positive gain, best gain: -inf\n",
      "[LightGBM] [Warning] No further splits with positive gain, best gain: -inf\n",
      "[LightGBM] [Warning] No further splits with positive gain, best gain: -inf\n",
      "[LightGBM] [Warning] No further splits with positive gain, best gain: -inf\n",
      "[LightGBM] [Warning] No further splits with positive gain, best gain: -inf\n",
      "[LightGBM] [Warning] No further splits with positive gain, best gain: -inf\n",
      "[LightGBM] [Warning] No further splits with positive gain, best gain: -inf\n",
      "[LightGBM] [Warning] No further splits with positive gain, best gain: -inf\n",
      "[LightGBM] [Warning] No further splits with positive gain, best gain: -inf\n",
      "[LightGBM] [Warning] No further splits with positive gain, best gain: -inf\n",
      "[LightGBM] [Warning] No further splits with positive gain, best gain: -inf\n",
      "[LightGBM] [Warning] No further splits with positive gain, best gain: -inf\n",
      "[LightGBM] [Warning] No further splits with positive gain, best gain: -inf\n",
      "[LightGBM] [Warning] No further splits with positive gain, best gain: -inf\n",
      "[LightGBM] [Warning] No further splits with positive gain, best gain: -inf\n",
      "[LightGBM] [Warning] No further splits with positive gain, best gain: -inf\n",
      "[LightGBM] [Warning] No further splits with positive gain, best gain: -inf\n",
      "[LightGBM] [Warning] No further splits with positive gain, best gain: -inf\n",
      "[LightGBM] [Warning] No further splits with positive gain, best gain: -inf\n",
      "[LightGBM] [Warning] No further splits with positive gain, best gain: -inf\n",
      "[LightGBM] [Warning] No further splits with positive gain, best gain: -inf\n",
      "[LightGBM] [Warning] No further splits with positive gain, best gain: -inf\n",
      "[LightGBM] [Warning] No further splits with positive gain, best gain: -inf\n",
      "[LightGBM] [Warning] No further splits with positive gain, best gain: -inf\n",
      "[LightGBM] [Warning] No further splits with positive gain, best gain: -inf\n",
      "[LightGBM] [Warning] No further splits with positive gain, best gain: -inf\n",
      "[LightGBM] [Warning] No further splits with positive gain, best gain: -inf\n",
      "[LightGBM] [Warning] No further splits with positive gain, best gain: -inf\n",
      "[LightGBM] [Warning] No further splits with positive gain, best gain: -inf\n",
      "[LightGBM] [Warning] No further splits with positive gain, best gain: -inf\n",
      "[LightGBM] [Warning] No further splits with positive gain, best gain: -inf\n",
      "[LightGBM] [Warning] No further splits with positive gain, best gain: -inf\n",
      "[LightGBM] [Warning] No further splits with positive gain, best gain: -inf\n",
      "[LightGBM] [Warning] No further splits with positive gain, best gain: -inf\n",
      "[LightGBM] [Warning] No further splits with positive gain, best gain: -inf\n",
      "[LightGBM] [Warning] No further splits with positive gain, best gain: -inf\n",
      "[LightGBM] [Warning] No further splits with positive gain, best gain: -inf\n",
      "[LightGBM] [Warning] No further splits with positive gain, best gain: -inf\n",
      "[LightGBM] [Warning] No further splits with positive gain, best gain: -inf\n",
      "[LightGBM] [Warning] No further splits with positive gain, best gain: -inf\n",
      "[LightGBM] [Warning] No further splits with positive gain, best gain: -inf\n",
      "[LightGBM] [Warning] No further splits with positive gain, best gain: -inf\n",
      "[LightGBM] [Warning] No further splits with positive gain, best gain: -inf\n",
      "[LightGBM] [Warning] No further splits with positive gain, best gain: -inf\n",
      "[LightGBM] [Warning] No further splits with positive gain, best gain: -inf\n",
      "[LightGBM] [Warning] No further splits with positive gain, best gain: -inf\n",
      "[LightGBM] [Warning] No further splits with positive gain, best gain: -inf\n",
      "[LightGBM] [Warning] No further splits with positive gain, best gain: -inf\n",
      "[LightGBM] [Warning] No further splits with positive gain, best gain: -inf\n",
      "[LightGBM] [Warning] No further splits with positive gain, best gain: -inf\n",
      "[LightGBM] [Warning] No further splits with positive gain, best gain: -inf\n",
      "[LightGBM] [Warning] No further splits with positive gain, best gain: -inf\n",
      "[LightGBM] [Warning] No further splits with positive gain, best gain: -inf\n",
      "[LightGBM] [Warning] No further splits with positive gain, best gain: -inf\n",
      "[LightGBM] [Warning] No further splits with positive gain, best gain: -inf\n",
      "[LightGBM] [Warning] No further splits with positive gain, best gain: -inf\n",
      "[LightGBM] [Warning] No further splits with positive gain, best gain: -inf\n",
      "[LightGBM] [Warning] No further splits with positive gain, best gain: -inf\n",
      "[LightGBM] [Warning] No further splits with positive gain, best gain: -inf\n",
      "[LightGBM] [Warning] No further splits with positive gain, best gain: -inf\n",
      "[LightGBM] [Warning] No further splits with positive gain, best gain: -inf\n",
      "[LightGBM] [Warning] No further splits with positive gain, best gain: -inf\n",
      "[LightGBM] [Warning] No further splits with positive gain, best gain: -inf\n",
      "[LightGBM] [Warning] No further splits with positive gain, best gain: -inf\n",
      "[LightGBM] [Warning] No further splits with positive gain, best gain: -inf\n",
      "[LightGBM] [Warning] No further splits with positive gain, best gain: -inf\n",
      "[LightGBM] [Warning] No further splits with positive gain, best gain: -inf\n",
      "[LightGBM] [Warning] No further splits with positive gain, best gain: -inf\n",
      "[LightGBM] [Warning] No further splits with positive gain, best gain: -inf\n",
      "[LightGBM] [Warning] No further splits with positive gain, best gain: -inf\n",
      "[LightGBM] [Warning] No further splits with positive gain, best gain: -inf\n",
      "[LightGBM] [Warning] No further splits with positive gain, best gain: -inf\n",
      "[LightGBM] [Warning] No further splits with positive gain, best gain: -inf\n",
      "[LightGBM] [Warning] No further splits with positive gain, best gain: -inf\n",
      "[LightGBM] [Warning] No further splits with positive gain, best gain: -inf\n",
      "[LightGBM] [Warning] No further splits with positive gain, best gain: -inf\n",
      "[LightGBM] [Warning] No further splits with positive gain, best gain: -inf\n",
      "[LightGBM] [Warning] No further splits with positive gain, best gain: -inf\n",
      "[LightGBM] [Warning] No further splits with positive gain, best gain: -inf\n",
      "[LightGBM] [Warning] No further splits with positive gain, best gain: -inf\n",
      "[LightGBM] [Warning] No further splits with positive gain, best gain: -inf\n"
     ]
    },
    {
     "name": "stdout",
     "output_type": "stream",
     "text": [
      "[LightGBM] [Warning] No further splits with positive gain, best gain: -inf\n",
      "[LightGBM] [Warning] No further splits with positive gain, best gain: -inf\n",
      "[LightGBM] [Warning] No further splits with positive gain, best gain: -inf\n",
      "[LightGBM] [Warning] No further splits with positive gain, best gain: -inf\n",
      "[LightGBM] [Warning] No further splits with positive gain, best gain: -inf\n",
      "[LightGBM] [Warning] No further splits with positive gain, best gain: -inf\n",
      "[LightGBM] [Warning] No further splits with positive gain, best gain: -inf\n",
      "[LightGBM] [Warning] No further splits with positive gain, best gain: -inf\n",
      "[LightGBM] [Warning] No further splits with positive gain, best gain: -inf\n",
      "[LightGBM] [Warning] No further splits with positive gain, best gain: -inf\n",
      "[LightGBM] [Warning] No further splits with positive gain, best gain: -inf\n",
      "[LightGBM] [Warning] No further splits with positive gain, best gain: -inf\n",
      "[LightGBM] [Warning] No further splits with positive gain, best gain: -inf\n",
      "[LightGBM] [Warning] No further splits with positive gain, best gain: -inf\n",
      "[LightGBM] [Warning] No further splits with positive gain, best gain: -inf\n",
      "[LightGBM] [Warning] No further splits with positive gain, best gain: -inf\n",
      "[LightGBM] [Warning] No further splits with positive gain, best gain: -inf\n",
      "[LightGBM] [Warning] No further splits with positive gain, best gain: -inf\n",
      "[LightGBM] [Warning] No further splits with positive gain, best gain: -inf\n",
      "[LightGBM] [Warning] No further splits with positive gain, best gain: -inf\n",
      "[LightGBM] [Warning] No further splits with positive gain, best gain: -inf\n",
      "[LightGBM] [Warning] No further splits with positive gain, best gain: -inf\n",
      "[LightGBM] [Warning] No further splits with positive gain, best gain: -inf\n",
      "[LightGBM] [Warning] No further splits with positive gain, best gain: -inf\n",
      "[LightGBM] [Warning] No further splits with positive gain, best gain: -inf\n",
      "[LightGBM] [Warning] No further splits with positive gain, best gain: -inf\n",
      "[LightGBM] [Warning] No further splits with positive gain, best gain: -inf\n",
      "[LightGBM] [Warning] No further splits with positive gain, best gain: -inf\n",
      "[LightGBM] [Warning] No further splits with positive gain, best gain: -inf\n",
      "[LightGBM] [Warning] No further splits with positive gain, best gain: -inf\n",
      "[LightGBM] [Warning] No further splits with positive gain, best gain: -inf\n",
      "[LightGBM] [Warning] No further splits with positive gain, best gain: -inf\n",
      "[LightGBM] [Warning] No further splits with positive gain, best gain: -inf\n",
      "[LightGBM] [Warning] No further splits with positive gain, best gain: -inf\n",
      "[LightGBM] [Warning] No further splits with positive gain, best gain: -inf\n",
      "[LightGBM] [Warning] No further splits with positive gain, best gain: -inf\n",
      "[LightGBM] [Warning] No further splits with positive gain, best gain: -inf\n",
      "[LightGBM] [Warning] No further splits with positive gain, best gain: -inf\n",
      "[LightGBM] [Warning] No further splits with positive gain, best gain: -inf\n",
      "[LightGBM] [Warning] No further splits with positive gain, best gain: -inf\n",
      "[LightGBM] [Warning] No further splits with positive gain, best gain: -inf\n",
      "[LightGBM] [Warning] No further splits with positive gain, best gain: -inf\n",
      "[LightGBM] [Warning] No further splits with positive gain, best gain: -inf\n",
      "[LightGBM] [Warning] No further splits with positive gain, best gain: -inf\n",
      "[LightGBM] [Warning] No further splits with positive gain, best gain: -inf\n",
      "[LightGBM] [Warning] No further splits with positive gain, best gain: -inf\n",
      "[LightGBM] [Warning] No further splits with positive gain, best gain: -inf\n",
      "[LightGBM] [Warning] No further splits with positive gain, best gain: -inf\n",
      "[LightGBM] [Warning] No further splits with positive gain, best gain: -inf\n",
      "[LightGBM] [Warning] No further splits with positive gain, best gain: -inf\n",
      "[LightGBM] [Warning] No further splits with positive gain, best gain: -inf\n",
      "[LightGBM] [Warning] No further splits with positive gain, best gain: -inf\n",
      "[LightGBM] [Warning] No further splits with positive gain, best gain: -inf\n",
      "[LightGBM] [Warning] No further splits with positive gain, best gain: -inf\n",
      "[LightGBM] [Warning] No further splits with positive gain, best gain: -inf\n",
      "[LightGBM] [Warning] No further splits with positive gain, best gain: -inf\n",
      "[LightGBM] [Warning] No further splits with positive gain, best gain: -inf\n",
      "[LightGBM] [Warning] No further splits with positive gain, best gain: -inf\n",
      "[LightGBM] [Warning] No further splits with positive gain, best gain: -inf\n",
      "[LightGBM] [Warning] No further splits with positive gain, best gain: -inf\n",
      "[LightGBM] [Warning] No further splits with positive gain, best gain: -inf\n",
      "[LightGBM] [Warning] No further splits with positive gain, best gain: -inf\n",
      "[LightGBM] [Warning] No further splits with positive gain, best gain: -inf\n",
      "[LightGBM] [Warning] No further splits with positive gain, best gain: -inf\n",
      "[LightGBM] [Warning] No further splits with positive gain, best gain: -inf\n",
      "[LightGBM] [Warning] No further splits with positive gain, best gain: -inf\n",
      "[LightGBM] [Warning] No further splits with positive gain, best gain: -inf\n",
      "[LightGBM] [Warning] No further splits with positive gain, best gain: -inf\n",
      "[LightGBM] [Warning] No further splits with positive gain, best gain: -inf\n",
      "[LightGBM] [Warning] No further splits with positive gain, best gain: -inf\n",
      "[LightGBM] [Warning] No further splits with positive gain, best gain: -inf\n",
      "[LightGBM] [Warning] No further splits with positive gain, best gain: -inf\n",
      "[LightGBM] [Warning] No further splits with positive gain, best gain: -inf\n",
      "[LightGBM] [Warning] No further splits with positive gain, best gain: -inf\n",
      "[LightGBM] [Warning] No further splits with positive gain, best gain: -inf\n",
      "[LightGBM] [Warning] No further splits with positive gain, best gain: -inf\n",
      "[LightGBM] [Warning] No further splits with positive gain, best gain: -inf\n",
      "[LightGBM] [Warning] No further splits with positive gain, best gain: -inf\n",
      "[LightGBM] [Warning] No further splits with positive gain, best gain: -inf\n",
      "[LightGBM] [Warning] No further splits with positive gain, best gain: -inf\n",
      "[LightGBM] [Warning] No further splits with positive gain, best gain: -inf\n",
      "[LightGBM] [Warning] No further splits with positive gain, best gain: -inf\n",
      "[LightGBM] [Warning] No further splits with positive gain, best gain: -inf\n",
      "[LightGBM] [Warning] No further splits with positive gain, best gain: -inf\n",
      "[LightGBM] [Warning] No further splits with positive gain, best gain: -inf\n",
      "[LightGBM] [Warning] No further splits with positive gain, best gain: -inf\n",
      "[LightGBM] [Warning] No further splits with positive gain, best gain: -inf\n",
      "[LightGBM] [Warning] No further splits with positive gain, best gain: -inf\n",
      "[LightGBM] [Warning] No further splits with positive gain, best gain: -inf\n",
      "[LightGBM] [Warning] No further splits with positive gain, best gain: -inf\n",
      "[LightGBM] [Warning] No further splits with positive gain, best gain: -inf\n",
      "[LightGBM] [Warning] No further splits with positive gain, best gain: -inf\n",
      "[LightGBM] [Warning] No further splits with positive gain, best gain: -inf\n",
      "[LightGBM] [Warning] No further splits with positive gain, best gain: -inf\n",
      "[LightGBM] [Warning] No further splits with positive gain, best gain: -inf\n",
      "[LightGBM] [Warning] No further splits with positive gain, best gain: -inf\n",
      "[LightGBM] [Warning] No further splits with positive gain, best gain: -inf\n",
      "[LightGBM] [Warning] No further splits with positive gain, best gain: -inf\n",
      "[LightGBM] [Warning] No further splits with positive gain, best gain: -inf\n",
      "[LightGBM] [Warning] No further splits with positive gain, best gain: -inf\n",
      "[LightGBM] [Warning] No further splits with positive gain, best gain: -inf\n",
      "[LightGBM] [Warning] No further splits with positive gain, best gain: -inf\n",
      "[LightGBM] [Warning] No further splits with positive gain, best gain: -inf\n",
      "[LightGBM] [Warning] No further splits with positive gain, best gain: -inf\n",
      "[LightGBM] [Warning] No further splits with positive gain, best gain: -inf\n",
      "[LightGBM] [Warning] No further splits with positive gain, best gain: -inf\n",
      "[LightGBM] [Warning] No further splits with positive gain, best gain: -inf\n",
      "[LightGBM] [Warning] No further splits with positive gain, best gain: -inf\n",
      "[LightGBM] [Warning] No further splits with positive gain, best gain: -inf\n",
      "[LightGBM] [Warning] No further splits with positive gain, best gain: -inf\n",
      "[LightGBM] [Warning] No further splits with positive gain, best gain: -inf\n"
     ]
    },
    {
     "name": "stdout",
     "output_type": "stream",
     "text": [
      "[LightGBM] [Warning] No further splits with positive gain, best gain: -inf\n",
      "[LightGBM] [Warning] No further splits with positive gain, best gain: -inf\n",
      "[LightGBM] [Warning] No further splits with positive gain, best gain: -inf\n",
      "[LightGBM] [Warning] No further splits with positive gain, best gain: -inf\n",
      "[LightGBM] [Warning] No further splits with positive gain, best gain: -inf\n",
      "[LightGBM] [Warning] No further splits with positive gain, best gain: -inf\n",
      "[LightGBM] [Warning] No further splits with positive gain, best gain: -inf\n",
      "[LightGBM] [Warning] No further splits with positive gain, best gain: -inf\n",
      "[LightGBM] [Warning] No further splits with positive gain, best gain: -inf\n",
      "[LightGBM] [Warning] No further splits with positive gain, best gain: -inf\n",
      "[LightGBM] [Warning] No further splits with positive gain, best gain: -inf\n",
      "[LightGBM] [Warning] No further splits with positive gain, best gain: -inf\n",
      "[LightGBM] [Warning] No further splits with positive gain, best gain: -inf\n",
      "[LightGBM] [Warning] No further splits with positive gain, best gain: -inf\n",
      "[LightGBM] [Warning] No further splits with positive gain, best gain: -inf\n",
      "[LightGBM] [Warning] No further splits with positive gain, best gain: -inf\n",
      "[LightGBM] [Warning] No further splits with positive gain, best gain: -inf\n",
      "[LightGBM] [Warning] No further splits with positive gain, best gain: -inf\n",
      "[LightGBM] [Warning] No further splits with positive gain, best gain: -inf\n",
      "[LightGBM] [Warning] No further splits with positive gain, best gain: -inf\n",
      "[LightGBM] [Warning] No further splits with positive gain, best gain: -inf\n",
      "[LightGBM] [Warning] No further splits with positive gain, best gain: -inf\n",
      "[LightGBM] [Warning] No further splits with positive gain, best gain: -inf\n",
      "[LightGBM] [Warning] No further splits with positive gain, best gain: -inf\n",
      "[LightGBM] [Warning] No further splits with positive gain, best gain: -inf\n",
      "[LightGBM] [Warning] No further splits with positive gain, best gain: -inf\n",
      "[LightGBM] [Warning] No further splits with positive gain, best gain: -inf\n",
      "[LightGBM] [Warning] No further splits with positive gain, best gain: -inf\n",
      "[LightGBM] [Warning] No further splits with positive gain, best gain: -inf\n",
      "[LightGBM] [Warning] No further splits with positive gain, best gain: -inf\n",
      "[LightGBM] [Warning] No further splits with positive gain, best gain: -inf\n",
      "[LightGBM] [Warning] No further splits with positive gain, best gain: -inf\n",
      "[LightGBM] [Warning] No further splits with positive gain, best gain: -inf\n",
      "[LightGBM] [Warning] No further splits with positive gain, best gain: -inf\n",
      "[LightGBM] [Warning] No further splits with positive gain, best gain: -inf\n",
      "[LightGBM] [Warning] No further splits with positive gain, best gain: -inf\n",
      "[LightGBM] [Warning] No further splits with positive gain, best gain: -inf\n",
      "[LightGBM] [Warning] No further splits with positive gain, best gain: -inf\n",
      "[LightGBM] [Warning] No further splits with positive gain, best gain: -inf\n",
      "[LightGBM] [Warning] No further splits with positive gain, best gain: -inf\n",
      "[LightGBM] [Warning] No further splits with positive gain, best gain: -inf\n",
      "[LightGBM] [Warning] No further splits with positive gain, best gain: -inf\n",
      "[LightGBM] [Warning] No further splits with positive gain, best gain: -inf\n",
      "[LightGBM] [Warning] No further splits with positive gain, best gain: -inf\n",
      "[LightGBM] [Warning] No further splits with positive gain, best gain: -inf\n",
      "[LightGBM] [Warning] No further splits with positive gain, best gain: -inf\n",
      "[LightGBM] [Warning] No further splits with positive gain, best gain: -inf\n",
      "[LightGBM] [Warning] No further splits with positive gain, best gain: -inf\n",
      "[LightGBM] [Warning] No further splits with positive gain, best gain: -inf\n",
      "[LightGBM] [Warning] No further splits with positive gain, best gain: -inf\n",
      "[LightGBM] [Warning] No further splits with positive gain, best gain: -inf\n",
      "[LightGBM] [Warning] No further splits with positive gain, best gain: -inf\n",
      "[LightGBM] [Warning] No further splits with positive gain, best gain: -inf\n",
      "[LightGBM] [Warning] No further splits with positive gain, best gain: -inf\n",
      "[LightGBM] [Warning] No further splits with positive gain, best gain: -inf\n",
      "[LightGBM] [Warning] No further splits with positive gain, best gain: -inf\n",
      "[LightGBM] [Warning] No further splits with positive gain, best gain: -inf\n",
      "[LightGBM] [Warning] No further splits with positive gain, best gain: -inf\n",
      "[LightGBM] [Warning] No further splits with positive gain, best gain: -inf\n",
      "[LightGBM] [Warning] No further splits with positive gain, best gain: -inf\n",
      "[LightGBM] [Warning] No further splits with positive gain, best gain: -inf\n",
      "[LightGBM] [Warning] No further splits with positive gain, best gain: -inf\n",
      "[LightGBM] [Warning] No further splits with positive gain, best gain: -inf\n",
      "[LightGBM] [Warning] No further splits with positive gain, best gain: -inf\n",
      "[LightGBM] [Warning] No further splits with positive gain, best gain: -inf\n",
      "[LightGBM] [Warning] No further splits with positive gain, best gain: -inf\n",
      "[LightGBM] [Warning] No further splits with positive gain, best gain: -inf\n",
      "[LightGBM] [Warning] No further splits with positive gain, best gain: -inf\n",
      "[LightGBM] [Warning] No further splits with positive gain, best gain: -inf\n",
      "Best parameters found for LGBM:  {'num_leaves': 63, 'n_estimators': 800, 'min_data_in_leaf': 100, 'max_depth': 15, 'learning_rate': 0.01, 'feature_fraction': 0.8, 'bagging_freq': 7, 'bagging_fraction': 0.9}\n",
      "Best cross-validated score for LGBM:  0.6185073369710262\n"
     ]
    }
   ],
   "source": [
    "# Parameters distribution for Random Search for LightGBM\n",
    "param_distributions = {\n",
    "    'num_leaves': [15, 31, 63],  # Lower number than your current setting\n",
    "    'max_depth': [-1, 15, 20, 25],  # -1 means no limit\n",
    "    'min_data_in_leaf': [20, 50, 100, 200],  # Higher numbers can help with overfitting\n",
    "    'learning_rate': [0.005, 0.01, 0.05],  # Smaller learning rates\n",
    "    'n_estimators': [200, 400, 800],  # More estimators with a smaller learning rate\n",
    "    'bagging_fraction': [0.8, 0.9, 1.0],  # Enable bagging\n",
    "    'bagging_freq': [5, 7, 9],\n",
    "    'feature_fraction': [0.8, 0.9, 1.0]\n",
    "}\n",
    "\n",
    "# Initialize the LightGBM Regressor\n",
    "lgbm = LGBMRegressor(random_state=42)\n",
    "\n",
    "# Randomized Search with Cross-Validation\n",
    "random_search_lgbm = RandomizedSearchCV(\n",
    "    estimator=lgbm,\n",
    "    param_distributions=param_distributions,\n",
    "    n_iter=5,  # Number of parameter settings sampled\n",
    "    cv=3,      # Number of folds in cross-validation\n",
    "    random_state=42,\n",
    "    n_jobs=-1  # Use all available cores\n",
    ")\n",
    "\n",
    "# Fit Model\n",
    "random_search_lgbm.fit(x_train_df, y_train_array)\n",
    "\n",
    "# Print the best parameters and the corresponding score\n",
    "print(\"Best parameters found for LGBM: \", random_search_lgbm.best_params_)\n",
    "print(\"Best cross-validated score for LGBM: \", random_search_lgbm.best_score_)"
   ]
  },
  {
   "cell_type": "code",
   "execution_count": 99,
   "id": "66ff575d",
   "metadata": {},
   "outputs": [
    {
     "name": "stdout",
     "output_type": "stream",
     "text": [
      "[LightGBM] [Warning] min_data_in_leaf is set=10, min_child_samples=20 will be ignored. Current value: min_data_in_leaf=10\n",
      "[LightGBM] [Warning] feature_fraction is set=1.0, colsample_bytree=1.0 will be ignored. Current value: feature_fraction=1.0\n",
      "[LightGBM] [Warning] bagging_fraction is set=1.0, subsample=1.0 will be ignored. Current value: bagging_fraction=1.0\n",
      "[LightGBM] [Warning] bagging_freq is set=9, subsample_freq=0 will be ignored. Current value: bagging_freq=9\n",
      "[LightGBM] [Warning] Found whitespace in feature_names, replace with underlines\n",
      "[LightGBM] [Warning] min_data_in_leaf is set=10, min_child_samples=20 will be ignored. Current value: min_data_in_leaf=10\n",
      "[LightGBM] [Warning] feature_fraction is set=1.0, colsample_bytree=1.0 will be ignored. Current value: feature_fraction=1.0\n",
      "[LightGBM] [Warning] bagging_fraction is set=1.0, subsample=1.0 will be ignored. Current value: bagging_fraction=1.0\n",
      "[LightGBM] [Warning] bagging_freq is set=9, subsample_freq=0 will be ignored. Current value: bagging_freq=9\n",
      "[LightGBM] [Info] Auto-choosing row-wise multi-threading, the overhead of testing was 0.011486 seconds.\n",
      "You can set `force_row_wise=true` to remove the overhead.\n",
      "And if memory is not enough, you can set `force_col_wise=true`.\n",
      "[LightGBM] [Info] Total Bins 5232\n",
      "[LightGBM] [Info] Number of data points in the train set: 123386, number of used features: 123\n",
      "[LightGBM] [Info] Start training from score 4.405718\n",
      "[LightGBM] [Warning] min_data_in_leaf is set=10, min_child_samples=20 will be ignored. Current value: min_data_in_leaf=10\n",
      "[LightGBM] [Warning] feature_fraction is set=1.0, colsample_bytree=1.0 will be ignored. Current value: feature_fraction=1.0\n",
      "[LightGBM] [Warning] bagging_fraction is set=1.0, subsample=1.0 will be ignored. Current value: bagging_fraction=1.0\n",
      "[LightGBM] [Warning] bagging_freq is set=9, subsample_freq=0 will be ignored. Current value: bagging_freq=9\n",
      "[LightGBM] [Warning] min_data_in_leaf is set=10, min_child_samples=20 will be ignored. Current value: min_data_in_leaf=10\n",
      "[LightGBM] [Warning] feature_fraction is set=1.0, colsample_bytree=1.0 will be ignored. Current value: feature_fraction=1.0\n",
      "[LightGBM] [Warning] bagging_fraction is set=1.0, subsample=1.0 will be ignored. Current value: bagging_fraction=1.0\n",
      "[LightGBM] [Warning] bagging_freq is set=9, subsample_freq=0 will be ignored. Current value: bagging_freq=9\n",
      "Train MSE for LGBM: 8.4391270432832e-05\n",
      "Test MSE for LGBM: 0.00011770474262233122\n",
      "Train R^2 for LGBM: 0.7505224379188488\n",
      "Test R^2 for LGBM: 0.6762612595845577\n"
     ]
    }
   ],
   "source": [
    "# Selecting best parameters\n",
    "hyper_params = {'num_leaves': 40, \n",
    "                'n_estimators': 500, \n",
    "                'min_data_in_leaf': 10, \n",
    "                'max_depth': None, \n",
    "                'learning_rate': 0.005, \n",
    "                'feature_fraction': 1.0, \n",
    "                'bagging_freq': 9, \n",
    "                'bagging_fraction': 1.0}\n",
    "\n",
    "final_lgbm_model = LGBMRegressor(**hyper_params)\n",
    "\n",
    "# Training Final Model\n",
    "final_lgbm_model.fit(x_train_df, y_train_array)\n",
    "\n",
    "# Predictions\n",
    "y_train_lgbm_pred = final_lgbm_model.predict(x_train_df)\n",
    "y_test_lgbm_pred = final_lgbm_model.predict(x_test_df)\n",
    "\n",
    "# Evaluate the final model\n",
    "train_mse_lgbm = mean_squared_error(y_train_array, y_train_lgbm_pred)\n",
    "test_mse_lgbm = mean_squared_error(y_test_array, y_test_lgbm_pred)\n",
    "train_r2_lgbm = r2_score(y_train_array, y_train_lgbm_pred)\n",
    "test_r2_lgbm = r2_score(y_test_array, y_test_lgbm_pred)\n",
    "\n",
    "print(\"Train MSE for LGBM:\", train_mse_lgbm)\n",
    "print(\"Test MSE for LGBM:\", test_mse_lgbm)\n",
    "print(\"Train R^2 for LGBM:\", train_r2_lgbm)\n",
    "print(\"Test R^2 for LGBM:\", test_r2_lgbm)"
   ]
  },
  {
   "cell_type": "code",
   "execution_count": 302,
   "id": "13e4a35c",
   "metadata": {},
   "outputs": [
    {
     "name": "stdout",
     "output_type": "stream",
     "text": [
      "(123363, 82)\n",
      "(52870, 82)\n"
     ]
    }
   ],
   "source": [
    "# # Appending predictions of LGBM to original dfs\n",
    "# x_train_df['lgbm_preds'] = y_train_lgbm_pred\n",
    "# x_test_df['lgbm_preds'] = y_test_lgbm_pred\n",
    "\n",
    "# print(x_train_df.shape)\n",
    "# print(x_test_df.shape)"
   ]
  },
  {
   "cell_type": "markdown",
   "id": "4cec4b53",
   "metadata": {},
   "source": [
    "## Gradient Boosting Model"
   ]
  },
  {
   "cell_type": "code",
   "execution_count": 100,
   "id": "d6523382",
   "metadata": {},
   "outputs": [
    {
     "name": "stdout",
     "output_type": "stream",
     "text": [
      "GB overall accuracy, for model with all variables: 0.5318288130517002\n",
      " \n",
      "MSE train, for model with all variables: 0.00014874485105691672\n",
      "MSE test, for model with all variables: 0.00017021740738295773\n"
     ]
    }
   ],
   "source": [
    "params = {'n_estimators': 70, 'min_samples_split': 2,  'max_depth': 5, 'learning_rate': 0.01, 'loss': 'squared_error'}\n",
    "\n",
    "model7 = GradientBoostingRegressor(**params)\n",
    "\n",
    "\"\"\" switch the order of X and Y for the fit to work with GradientBoosting \"\"\"\n",
    "\"\"\" also, note that we are starting with the full training data, and not the selected variables from above \"\"\"\n",
    "result = model7.fit(x_train_df, y_train_array)\n",
    "\n",
    "\"\"\" returns mean accuracy\"\"\"\n",
    "accuracy = model7.score(x_test_df, y_test_df)\n",
    "print(\"GB overall accuracy, for model with all variables:\", accuracy)\n",
    "\n",
    "\"\"\" predicted values using the model \"\"\"\n",
    "\"\"\" using numpy copy to store result as an array \"\"\"\n",
    "\"\"\" manually adding a column header \"\"\"\n",
    "predict_train = pd.DataFrame(np.copy(model7.predict(x_train_df)), columns=[\"P_log_margin_Y_pos_1\"])\n",
    "predict_test = pd.DataFrame(np.copy(model7.predict(x_test_df)), columns=[\"P_log_margin_Y_pos_1\"])\n",
    "\n",
    "print(\" \") \n",
    "print(\"MSE train, for model with all variables:\", mean_squared_error(y_train_array, predict_train))\n",
    "print(\"MSE test, for model with all variables:\", mean_squared_error(y_test_array, predict_test))"
   ]
  },
  {
   "cell_type": "code",
   "execution_count": 101,
   "id": "f2bebfe0",
   "metadata": {},
   "outputs": [
    {
     "data": {
      "image/png": "[encoded data removed]",
      "text/plain": [
       "<Figure size 3600x3600 with 1 Axes>"
      ]
     },
     "metadata": {
      "needs_background": "light"
     },
     "output_type": "display_data"
    },
    {
     "data": {
      "text/plain": [
       "Text(0, 0.5, 'MSE')"
      ]
     },
     "execution_count": 101,
     "metadata": {},
     "output_type": "execute_result"
    },
    {
     "data": {
      "image/png": "[encoded data removed]",
      "text/plain": [
       "<Figure size 1080x1080 with 1 Axes>"
      ]
     },
     "metadata": {
      "needs_background": "light"
     },
     "output_type": "display_data"
    }
   ],
   "source": [
    "# Plot feature importance\n",
    "feature_importance = result.feature_importances_\n",
    "# make importances relative to max importance\n",
    "feature_importance = 100.0 * (feature_importance / feature_importance.max())\n",
    "sorted_idx = np.argsort(feature_importance)\n",
    "pos = np.arange(sorted_idx.shape[0]) + .5\n",
    "plt.figure(figsize=(50,50))\n",
    "plt.subplot(1, 2, 2)\n",
    "plt.barh(pos, feature_importance[sorted_idx], align='center')\n",
    "plt.yticks(pos, x_train_df.columns[sorted_idx])\n",
    "plt.xlabel('Relative Importance')\n",
    "plt.title('Variable Importance, for model with all variables')\n",
    "plt.show()\n",
    "\n",
    "\"\"\" plotting MSE with each iteration for the model with all variables \"\"\"\n",
    "\n",
    "test_MSE  = np.zeros((params['n_estimators'],), dtype=np.float64)\n",
    "train_MSE = np.zeros((params['n_estimators'],), dtype=np.float64)\n",
    "\n",
    "for i, y_pred in enumerate(model7.staged_predict(x_test_df)):\n",
    "    test_MSE[i] = mean_squared_error(y_test_array, y_pred)\n",
    "\n",
    "for i, y_pred in enumerate(model7.staged_predict(x_train_df)):\n",
    "    train_MSE[i] = mean_squared_error(y_train_array, y_pred)\n",
    "\n",
    "plt.figure(figsize=(15,15))\n",
    "plt.subplot(1, 2, 1)\n",
    "plt.title('MSE by iteration, for the model with all variables')\n",
    "plt.plot(np.arange(params['n_estimators']) + 1, train_MSE, 'b-',\n",
    "         label='Training Set MSE')\n",
    "plt.plot(np.arange(params['n_estimators']) + 1, test_MSE, 'r-',\n",
    "         label='Test Set MSE')\n",
    "plt.legend(loc='upper right')\n",
    "plt.xlabel('Boosting Iterations')\n",
    "plt.ylabel('MSE')"
   ]
  },
  {
   "cell_type": "code",
   "execution_count": 102,
   "id": "81d07458",
   "metadata": {},
   "outputs": [
    {
     "name": "stdout",
     "output_type": "stream",
     "text": [
      "GB overall accuracy, for model with only selected features: 0.5312259079171526\n",
      " \n",
      "MSE train, for model with only selected features: 0.0001552096498398542\n",
      "MSE test, for model with only selected features: 0.0001704366112805096\n"
     ]
    }
   ],
   "source": [
    "\n",
    "\"\"\" select only impactful features \"\"\"\n",
    "\"\"\" note:  decrease/increase this threshold (a relative number between 0 and 100) to select more/less features \"\"\"\n",
    "selected_features = (feature_importance > 10)\n",
    "\n",
    "\"\"\" creating a dataframe of independent variables, from the training (and test) data \"\"\"\n",
    "\"\"\"     having only those independent variables selected above \"\"\"\n",
    "\n",
    "x_train_selected_df = x_train_df[x_train_df.columns[selected_features]]\n",
    "x_test_selected_df = x_test_df[x_test_df.columns[selected_features]]\n",
    "\n",
    "\"\"\" we are also reducing columns in churners data, as this is our final model \"\"\"\n",
    "\"\"\"     and any data we want to score needs to have the correct columns \"\"\"\n",
    "#x_churners_selected_df = x_churners_df[x_churners_df.columns[selected_features]]\n",
    "\n",
    "\"\"\" refitting the model using a subset of features \"\"\"\n",
    "\"\"\" had to switch the order of X and Y for the fit to work with GradientBoosting \"\"\"\n",
    "result = model7.fit(x_train_selected_df, y_train_array)\n",
    "\"\"\" returns mean accuracy\"\"\"\n",
    "accuracy = model7.score(x_test_selected_df, y_test_df)\n",
    "print(\"GB overall accuracy, for model with only selected features:\", accuracy)\n",
    "\n",
    "\"\"\" predicted values using the model \"\"\"\n",
    "\"\"\" using numpy copy to store result as an array \"\"\"\n",
    "\"\"\" manually adding a column header \"\"\"\n",
    "predict_train = pd.DataFrame(np.copy(model7.predict(x_train_selected_df)), columns=[\"P_log_margin_Y_pos_1\"])\n",
    "predict_test = pd.DataFrame(np.copy(model7.predict(x_test_selected_df)), columns=[\"P_log_margin_Y_pos_1\"])\n",
    "#predict_churners = pd.DataFrame(np.copy(model7.predict(x_churners_selected_df)), columns=[\"P_log_margin_Y_pos_1\"])\n",
    "\n",
    "print(\" \") \n",
    "print(\"MSE train, for model with only selected features:\", mean_squared_error(y_train_array, predict_train))\n",
    "print(\"MSE test, for model with only selected features:\", mean_squared_error(y_test_array, predict_test))"
   ]
  },
  {
   "cell_type": "code",
   "execution_count": 103,
   "id": "2eae05b7",
   "metadata": {},
   "outputs": [
    {
     "name": "stdout",
     "output_type": "stream",
     "text": [
      " \n"
     ]
    },
    {
     "data": {
      "image/png": "[encoded data removed]",
      "text/plain": [
       "<Figure size 1080x1080 with 1 Axes>"
      ]
     },
     "metadata": {},
     "output_type": "display_data"
    },
    {
     "data": {
      "text/plain": [
       "Text(0, 0.5, 'MSE')"
      ]
     },
     "execution_count": 103,
     "metadata": {},
     "output_type": "execute_result"
    },
    {
     "data": {
      "image/png": "[encoded data removed]",
      "text/plain": [
       "<Figure size 1080x1080 with 1 Axes>"
      ]
     },
     "metadata": {
      "needs_background": "light"
     },
     "output_type": "display_data"
    }
   ],
   "source": [
    "plt.figure(figsize=(15,15))\n",
    "plt.scatter(y_train_array, predict_train)\n",
    "plt.xlabel(\"log margin\")\n",
    "plt.ylabel(\"predicted log margin\")\n",
    "plt.title(\"actual v predicted, for model using only selected variables\")\n",
    "plt.xticks([])\n",
    "plt.yticks([])\n",
    "print(\" \") \n",
    "plt.show()\n",
    "\n",
    "\"\"\" plotting MSE with each iteration \"\"\"\n",
    "\n",
    "test_MSE  = np.zeros((params['n_estimators'],), dtype=np.float64)\n",
    "train_MSE = np.zeros((params['n_estimators'],), dtype=np.float64)\n",
    "\n",
    "for i, y_pred in enumerate(model7.staged_predict(x_test_selected_df)):\n",
    "    test_MSE[i] = mean_squared_error(y_test_array, y_pred)\n",
    "\n",
    "for i, y_pred in enumerate(model7.staged_predict(x_train_selected_df)):\n",
    "    train_MSE[i] = mean_squared_error(y_train_array, y_pred)\n",
    "\n",
    "plt.figure(figsize=(15,15))\n",
    "plt.subplot(1, 2, 1)\n",
    "plt.title('MSE by iteration, for model using only selected features')\n",
    "plt.plot(np.arange(params['n_estimators']) + 1, train_MSE, 'b-',\n",
    "         label='Training Set MSE')\n",
    "plt.plot(np.arange(params['n_estimators']) + 1, test_MSE, 'r-',\n",
    "         label='Test Set MSE')\n",
    "plt.legend(loc='upper right')\n",
    "plt.xlabel('Boosting Iterations')\n",
    "plt.ylabel('MSE')"
   ]
  },
  {
   "cell_type": "markdown",
   "id": "739a1a74",
   "metadata": {},
   "source": [
    "## Concatenating Files "
   ]
  },
  {
   "cell_type": "code",
   "execution_count": 121,
   "id": "28681f3f",
   "metadata": {},
   "outputs": [
    {
     "data": {
      "text/plain": [
       "' and then save predicted values by acct ID to csv '"
      ]
     },
     "execution_count": 121,
     "metadata": {},
     "output_type": "execute_result"
    }
   ],
   "source": [
    "\"\"\" append together train and test predicted values, keeping only acct ID and predicted values \"\"\"\n",
    "\"\"\" also predicting values for the held-out churners and appending those, so we have all rows \"\"\"\n",
    "predict_train = pd.DataFrame(np.copy(y_train_pred), columns=[\"P_log_margin_Y_pos_1\"])\n",
    "predict_test = pd.DataFrame(np.copy(y_test_pred), columns=[\"P_log_margin_Y_pos_1\"])\n",
    "predict_churners = pd.DataFrame(np.copy(y_churners_pred), columns=[\"P_log_margin_Y_pos_1\"])\n",
    "\"\"\" note that the index for the predicted values vector \"\"\"\n",
    "\"\"\" is reset, and thus complicates a join back with the original \"\"\"\n",
    "\"\"\" thus, reset the index on the original data, then join with predicted \"\"\"\n",
    "\"\"\" WARNING: you have to do the same, to join back with dataframe of regressors \"\"\"\n",
    "y_train_df = y_train_df.reset_index(drop=True)\n",
    "y_test_df = y_test_df.reset_index(drop=True)\n",
    "y_churners_df = y_churners_df.reset_index(drop=True)\n",
    "\n",
    "\"\"\" joining predicted and actuals \"\"\"\n",
    "\"\"\" NOTE:  for reference, for now...to be used more later to create complete \"\"\"\n",
    "\"\"\"     dataframe with all obs and inputs and outputs \"\"\"\n",
    "\n",
    "train_accounts = train_acct_IDs_df.reset_index(drop=True)\n",
    "pred_v_actual_train = y_train_df.join(predict_train)\n",
    "pred_v_actual_train = pred_v_actual_train.join(train_accounts)\n",
    "\n",
    "test_accounts = test_acct_IDs_df.reset_index(drop=True)\n",
    "pred_v_actual_test = y_test_df.join(predict_test)\n",
    "pred_v_actual_test = pred_v_actual_test.join(test_accounts)\n",
    "\n",
    "churners_accounts = churners_acct_IDs_df.reset_index(drop=True)\n",
    "pred_v_actual_churners = y_churners_df.join(predict_churners)\n",
    "pred_v_actual_churners = pred_v_actual_churners.join(churners_accounts)\n",
    "\n",
    "\"\"\" appending test to train, and calling it train \"\"\"\n",
    "pred_v_actual_train = pd.concat([pred_v_actual_train, pred_v_actual_test], ignore_index=True)\n",
    "\n",
    "\"\"\" appending churners to train, and calling it train \"\"\"\n",
    "pred_v_actual_train = pd.concat([pred_v_actual_train, pred_v_actual_churners], ignore_index=True)\n",
    "\n",
    "\"\"\" dropping the actuals and keeping just the predicted values \"\"\"\n",
    "pred_v_actual_train = pred_v_actual_train.drop(['log_margin_Y_pos_1'\n",
    "                             ],axis=1)\n",
    "\n",
    "\"\"\" and then save predicted values by acct ID to csv \"\"\""
   ]
  },
  {
   "cell_type": "code",
   "execution_count": 124,
   "id": "97549a29",
   "metadata": {},
   "outputs": [
    {
     "name": "stdout",
     "output_type": "stream",
     "text": [
      "(239356, 128)\n"
     ]
    }
   ],
   "source": [
    "# Checking dataset\n",
    "cleaned_data = combined_all.copy()\n",
    "cleaned_data = cleaned_data.merge(pred_v_actual_train, how='inner', on='acct_ID')\n",
    "print(cleaned_data.shape)\n"
   ]
  },
  {
   "cell_type": "code",
   "execution_count": 127,
   "id": "bcc03b35",
   "metadata": {},
   "outputs": [],
   "source": [
    "cleaned_data['P_margin_Y_pos_1'] = np.exp(cleaned_data['log_margin_Y_pos_1']) "
   ]
  },
  {
   "cell_type": "code",
   "execution_count": 128,
   "id": "7ca84ed8",
   "metadata": {},
   "outputs": [
    {
     "data": {
      "text/plain": [
       "0    81.271250\n",
       "1    81.280613\n",
       "2    81.761890\n",
       "3    81.279554\n",
       "4    81.431919\n",
       "5    81.276814\n",
       "6    81.275529\n",
       "7    81.574062\n",
       "8    81.574905\n",
       "9    81.282420\n",
       "Name: P_margin_Y_pos_1, dtype: float64"
      ]
     },
     "execution_count": 128,
     "metadata": {},
     "output_type": "execute_result"
    }
   ],
   "source": [
    "cleaned_data['P_margin_Y_pos_1'].head(10)"
   ]
  },
  {
   "cell_type": "code",
   "execution_count": 129,
   "id": "119a22a3",
   "metadata": {},
   "outputs": [],
   "source": [
    "# Change path in below code\n",
    "cleaned_data.to_csv('margin_scores_final.csv',index=False)"
   ]
  },
  {
   "cell_type": "code",
   "execution_count": 131,
   "id": "96885b6a",
   "metadata": {},
   "outputs": [
    {
     "data": {
      "text/plain": [
       "count    239356.000000\n",
       "mean          4.403607\n",
       "std           0.016353\n",
       "min           4.332243\n",
       "25%           4.397902\n",
       "50%           4.400707\n",
       "75%           4.403681\n",
       "max           5.628203\n",
       "Name: log_margin_Y_pos_1, dtype: float64"
      ]
     },
     "execution_count": 131,
     "metadata": {},
     "output_type": "execute_result"
    }
   ],
   "source": [
    "cleaned_data['log_margin_Y_pos_1'].describe()"
   ]
  },
  {
   "cell_type": "code",
   "execution_count": null,
   "id": "5826ef6d",
   "metadata": {},
   "outputs": [],
   "source": [
    "cleaned_data[]"
   ]
  }
 ],
 "metadata": {
  "kernelspec": {
   "display_name": "Python 3 (ipykernel)",
   "language": "python",
   "name": "python3"
  },
  "language_info": {
   "codemirror_mode": {
    "name": "ipython",
    "version": 3
   },
   "file_extension": ".py",
   "mimetype": "text/x-python",
   "name": "python",
   "nbconvert_exporter": "python",
   "pygments_lexer": "ipython3",
   "version": "3.9.12"
  }
 },
 "nbformat": 4,
 "nbformat_minor": 5
}
